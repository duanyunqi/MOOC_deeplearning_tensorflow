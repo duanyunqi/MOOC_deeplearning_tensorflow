{
 "cells": [
  {
   "cell_type": "markdown",
   "metadata": {},
   "source": [
    "## 人工数据集生成"
   ]
  },
  {
   "cell_type": "code",
   "execution_count": 1,
   "metadata": {},
   "outputs": [
    {
     "name": "stderr",
     "output_type": "stream",
     "text": [
      "D:\\SoftWare\\Anaconda3\\envs\\tensorflow1\\lib\\site-packages\\tensorflow\\python\\framework\\dtypes.py:516: FutureWarning: Passing (type, 1) or '1type' as a synonym of type is deprecated; in a future version of numpy, it will be understood as (type, (1,)) / '(1,)type'.\n",
      "  _np_qint8 = np.dtype([(\"qint8\", np.int8, 1)])\n",
      "D:\\SoftWare\\Anaconda3\\envs\\tensorflow1\\lib\\site-packages\\tensorflow\\python\\framework\\dtypes.py:517: FutureWarning: Passing (type, 1) or '1type' as a synonym of type is deprecated; in a future version of numpy, it will be understood as (type, (1,)) / '(1,)type'.\n",
      "  _np_quint8 = np.dtype([(\"quint8\", np.uint8, 1)])\n",
      "D:\\SoftWare\\Anaconda3\\envs\\tensorflow1\\lib\\site-packages\\tensorflow\\python\\framework\\dtypes.py:518: FutureWarning: Passing (type, 1) or '1type' as a synonym of type is deprecated; in a future version of numpy, it will be understood as (type, (1,)) / '(1,)type'.\n",
      "  _np_qint16 = np.dtype([(\"qint16\", np.int16, 1)])\n",
      "D:\\SoftWare\\Anaconda3\\envs\\tensorflow1\\lib\\site-packages\\tensorflow\\python\\framework\\dtypes.py:519: FutureWarning: Passing (type, 1) or '1type' as a synonym of type is deprecated; in a future version of numpy, it will be understood as (type, (1,)) / '(1,)type'.\n",
      "  _np_quint16 = np.dtype([(\"quint16\", np.uint16, 1)])\n",
      "D:\\SoftWare\\Anaconda3\\envs\\tensorflow1\\lib\\site-packages\\tensorflow\\python\\framework\\dtypes.py:520: FutureWarning: Passing (type, 1) or '1type' as a synonym of type is deprecated; in a future version of numpy, it will be understood as (type, (1,)) / '(1,)type'.\n",
      "  _np_qint32 = np.dtype([(\"qint32\", np.int32, 1)])\n",
      "D:\\SoftWare\\Anaconda3\\envs\\tensorflow1\\lib\\site-packages\\tensorflow\\python\\framework\\dtypes.py:525: FutureWarning: Passing (type, 1) or '1type' as a synonym of type is deprecated; in a future version of numpy, it will be understood as (type, (1,)) / '(1,)type'.\n",
      "  np_resource = np.dtype([(\"resource\", np.ubyte, 1)])\n",
      "D:\\SoftWare\\Anaconda3\\envs\\tensorflow1\\lib\\site-packages\\tensorboard\\compat\\tensorflow_stub\\dtypes.py:541: FutureWarning: Passing (type, 1) or '1type' as a synonym of type is deprecated; in a future version of numpy, it will be understood as (type, (1,)) / '(1,)type'.\n",
      "  _np_qint8 = np.dtype([(\"qint8\", np.int8, 1)])\n",
      "D:\\SoftWare\\Anaconda3\\envs\\tensorflow1\\lib\\site-packages\\tensorboard\\compat\\tensorflow_stub\\dtypes.py:542: FutureWarning: Passing (type, 1) or '1type' as a synonym of type is deprecated; in a future version of numpy, it will be understood as (type, (1,)) / '(1,)type'.\n",
      "  _np_quint8 = np.dtype([(\"quint8\", np.uint8, 1)])\n",
      "D:\\SoftWare\\Anaconda3\\envs\\tensorflow1\\lib\\site-packages\\tensorboard\\compat\\tensorflow_stub\\dtypes.py:543: FutureWarning: Passing (type, 1) or '1type' as a synonym of type is deprecated; in a future version of numpy, it will be understood as (type, (1,)) / '(1,)type'.\n",
      "  _np_qint16 = np.dtype([(\"qint16\", np.int16, 1)])\n",
      "D:\\SoftWare\\Anaconda3\\envs\\tensorflow1\\lib\\site-packages\\tensorboard\\compat\\tensorflow_stub\\dtypes.py:544: FutureWarning: Passing (type, 1) or '1type' as a synonym of type is deprecated; in a future version of numpy, it will be understood as (type, (1,)) / '(1,)type'.\n",
      "  _np_quint16 = np.dtype([(\"quint16\", np.uint16, 1)])\n",
      "D:\\SoftWare\\Anaconda3\\envs\\tensorflow1\\lib\\site-packages\\tensorboard\\compat\\tensorflow_stub\\dtypes.py:545: FutureWarning: Passing (type, 1) or '1type' as a synonym of type is deprecated; in a future version of numpy, it will be understood as (type, (1,)) / '(1,)type'.\n",
      "  _np_qint32 = np.dtype([(\"qint32\", np.int32, 1)])\n",
      "D:\\SoftWare\\Anaconda3\\envs\\tensorflow1\\lib\\site-packages\\tensorboard\\compat\\tensorflow_stub\\dtypes.py:550: FutureWarning: Passing (type, 1) or '1type' as a synonym of type is deprecated; in a future version of numpy, it will be understood as (type, (1,)) / '(1,)type'.\n",
      "  np_resource = np.dtype([(\"resource\", np.ubyte, 1)])\n"
     ]
    }
   ],
   "source": [
    "import matplotlib.pyplot as plt\n",
    "import numpy as np\n",
    "import tensorflow as tf\n",
    "\n",
    "# 设置随机数种子\n",
    "np.random.seed(5)"
   ]
  },
  {
   "cell_type": "code",
   "execution_count": 2,
   "metadata": {},
   "outputs": [
    {
     "data": {
      "text/plain": [
       "array([ 0.79242262,  0.17076445, -1.75374086,  0.63029648,  0.49832921,\n",
       "        1.01813761, -0.84646862,  2.52080763, -1.23238611,  0.72695326])"
      ]
     },
     "execution_count": 2,
     "metadata": {},
     "output_type": "execute_result"
    }
   ],
   "source": [
    "# 直接采用np生成等差数列的方法，生成100个点，每个点的取值在-1~1之间\n",
    "x_data = np.linspace(-1,1,100)\n",
    "\n",
    "# y=2x+1+噪声，其中，噪声的维度与x_data一致\n",
    "y_data = 2 * x_data + 1.0 + np.random.randn(*x_data.shape) * 0.4\n",
    "\n",
    "# np.random.randn(d0, d1, ..., dn)是从标准正态分布中返回一个或多个样本值\n",
    "# 标准正态分布又称为u分布，是以0为均值，1为标准差的正态分布，记为N(0,1)\n",
    "np.random.randn(10)"
   ]
  },
  {
   "cell_type": "code",
   "execution_count": 3,
   "metadata": {},
   "outputs": [
    {
     "data": {
      "text/plain": [
       "(100,)"
      ]
     },
     "execution_count": 3,
     "metadata": {},
     "output_type": "execute_result"
    }
   ],
   "source": [
    "# *x_data.shape值为一个元组\n",
    "x_data.shape"
   ]
  },
  {
   "cell_type": "code",
   "execution_count": 4,
   "metadata": {},
   "outputs": [
    {
     "data": {
      "text/plain": [
       "array([ 0.04595522, -0.48713265,  0.81613236, -0.28143012, -2.33562182,\n",
       "       -1.16727845,  0.45765807,  2.23796561, -1.4812592 , -0.01694532,\n",
       "        1.45073354,  0.60687032, -0.37562084, -1.42192455, -1.7811513 ,\n",
       "       -0.74790579, -0.36840953, -2.24911813, -1.69367504,  0.30364847,\n",
       "       -0.40899234, -0.75483059, -0.40751917, -0.81262476,  0.92751621,\n",
       "        1.63995407,  2.07361553,  0.70979786,  0.74715259,  1.46309548,\n",
       "        1.73844881,  1.46520488,  1.21228341, -0.6346525 , -1.5996985 ,\n",
       "        0.87715281, -0.09383245, -0.05567103, -0.88942073, -1.30095145,\n",
       "        1.40216662,  0.46510099, -1.06503262,  0.39042061,  0.30560017,\n",
       "        0.52184949,  2.23327081, -0.0347021 , -1.27962318,  0.03654264,\n",
       "       -0.64635659,  0.54856784,  0.21054246,  0.34650175, -0.56705117,\n",
       "        0.41367881, -0.51025606,  0.51725935, -0.30100513, -1.11840643,\n",
       "        0.49852362, -0.70609387,  1.4438811 ,  0.44295626,  0.46770521,\n",
       "        0.10134479, -0.05935198, -2.38669774,  1.22217056, -0.81391201,\n",
       "        0.95626186, -0.63851056, -0.14312642, -0.22418983, -1.03849524,\n",
       "       -0.17170905,  0.47634618, -0.41417827, -1.26408334, -0.57321556,\n",
       "        0.24981732,  1.14720208,  0.83594396,  0.28740365, -0.9955963 ,\n",
       "        0.90688947,  0.02421074, -0.23998173,  0.91011056,  0.61784475,\n",
       "        0.49961804, -1.15154425, -0.6105164 , -1.70388541,  0.19443738,\n",
       "        0.02824125,  0.93256051,  0.21204332, -0.36794457,  2.1114884 ])"
      ]
     },
     "execution_count": 4,
     "metadata": {},
     "output_type": "execute_result"
    }
   ],
   "source": [
    "# 实参前面加上*和**时，就意味着拆包，单个*表示将元组拆成一个个单独的实参\n",
    "np.random.randn(*x_data.shape)"
   ]
  },
  {
   "cell_type": "markdown",
   "metadata": {},
   "source": [
    "## 利用matplotlib画图\n"
   ]
  },
  {
   "cell_type": "code",
   "execution_count": 5,
   "metadata": {},
   "outputs": [
    {
     "data": {
      "text/plain": [
       "<matplotlib.collections.PathCollection at 0x204fbd76408>"
      ]
     },
     "execution_count": 5,
     "metadata": {},
     "output_type": "execute_result"
    },
    {
     "data": {
      "image/png": "[encoded data removed]",
      "text/plain": [
       "<Figure size 432x288 with 1 Axes>"
      ]
     },
     "metadata": {
      "needs_background": "light"
     },
     "output_type": "display_data"
    }
   ],
   "source": [
    "# 画出随机生成数据的散点图\n",
    "plt.scatter(x_data, y_data)"
   ]
  },
  {
   "cell_type": "code",
   "execution_count": 6,
   "metadata": {},
   "outputs": [
    {
     "data": {
      "text/plain": [
       "[<matplotlib.lines.Line2D at 0x204fbdded08>]"
      ]
     },
     "execution_count": 6,
     "metadata": {},
     "output_type": "execute_result"
    },
    {
     "data": {
      "image/png": "[encoded data removed]",
      "text/plain": [
       "<Figure size 432x288 with 1 Axes>"
      ]
     },
     "metadata": {
      "needs_background": "light"
     },
     "output_type": "display_data"
    }
   ],
   "source": [
    "# 画出随机生成数据的散点图\n",
    "plt.scatter(x_data, y_data)\n",
    "\n",
    "# 画出我们想要学习得到的目标线性函数y=2x+1\n",
    "plt.plot(x_data, 1.0+2.0*x_data, color='red', linewidth=3)"
   ]
  },
  {
   "cell_type": "code",
   "execution_count": 7,
   "metadata": {},
   "outputs": [
    {
     "name": "stdout",
     "output_type": "stream",
     "text": [
      "Help on function plot in module matplotlib.pyplot:\n",
      "\n",
      "plot(*args, scalex=True, scaley=True, data=None, **kwargs)\n",
      "    Plot y versus x as lines and/or markers.\n",
      "    \n",
      "    Call signatures::\n",
      "    \n",
      "        plot([x], y, [fmt], *, data=None, **kwargs)\n",
      "        plot([x], y, [fmt], [x2], y2, [fmt2], ..., **kwargs)\n",
      "    \n",
      "    The coordinates of the points or line nodes are given by *x*, *y*.\n",
      "    \n",
      "    The optional parameter *fmt* is a convenient way for defining basic\n",
      "    formatting like color, marker and linestyle. It's a shortcut string\n",
      "    notation described in the *Notes* section below.\n",
      "    \n",
      "    >>> plot(x, y)        # plot x and y using default line style and color\n",
      "    >>> plot(x, y, 'bo')  # plot x and y using blue circle markers\n",
      "    >>> plot(y)           # plot y using x as index array 0..N-1\n",
      "    >>> plot(y, 'r+')     # ditto, but with red plusses\n",
      "    \n",
      "    You can use `.Line2D` properties as keyword arguments for more\n",
      "    control on the appearance. Line properties and *fmt* can be mixed.\n",
      "    The following two calls yield identical results:\n",
      "    \n",
      "    >>> plot(x, y, 'go--', linewidth=2, markersize=12)\n",
      "    >>> plot(x, y, color='green', marker='o', linestyle='dashed',\n",
      "    ...      linewidth=2, markersize=12)\n",
      "    \n",
      "    When conflicting with *fmt*, keyword arguments take precedence.\n",
      "    \n",
      "    \n",
      "    **Plotting labelled data**\n",
      "    \n",
      "    There's a convenient way for plotting objects with labelled data (i.e.\n",
      "    data that can be accessed by index ``obj['y']``). Instead of giving\n",
      "    the data in *x* and *y*, you can provide the object in the *data*\n",
      "    parameter and just give the labels for *x* and *y*::\n",
      "    \n",
      "    >>> plot('xlabel', 'ylabel', data=obj)\n",
      "    \n",
      "    All indexable objects are supported. This could e.g. be a `dict`, a\n",
      "    `pandas.DataFame` or a structured numpy array.\n",
      "    \n",
      "    \n",
      "    **Plotting multiple sets of data**\n",
      "    \n",
      "    There are various ways to plot multiple sets of data.\n",
      "    \n",
      "    - The most straight forward way is just to call `plot` multiple times.\n",
      "      Example:\n",
      "    \n",
      "      >>> plot(x1, y1, 'bo')\n",
      "      >>> plot(x2, y2, 'go')\n",
      "    \n",
      "    - Alternatively, if your data is already a 2d array, you can pass it\n",
      "      directly to *x*, *y*. A separate data set will be drawn for every\n",
      "      column.\n",
      "    \n",
      "      Example: an array ``a`` where the first column represents the *x*\n",
      "      values and the other columns are the *y* columns::\n",
      "    \n",
      "      >>> plot(a[0], a[1:])\n",
      "    \n",
      "    - The third way is to specify multiple sets of *[x]*, *y*, *[fmt]*\n",
      "      groups::\n",
      "    \n",
      "      >>> plot(x1, y1, 'g^', x2, y2, 'g-')\n",
      "    \n",
      "      In this case, any additional keyword argument applies to all\n",
      "      datasets. Also this syntax cannot be combined with the *data*\n",
      "      parameter.\n",
      "    \n",
      "    By default, each line is assigned a different style specified by a\n",
      "    'style cycle'. The *fmt* and line property parameters are only\n",
      "    necessary if you want explicit deviations from these defaults.\n",
      "    Alternatively, you can also change the style cycle using the\n",
      "    'axes.prop_cycle' rcParam.\n",
      "    \n",
      "    \n",
      "    Parameters\n",
      "    ----------\n",
      "    x, y : array-like or scalar\n",
      "        The horizontal / vertical coordinates of the data points.\n",
      "        *x* values are optional and default to `range(len(y))`.\n",
      "    \n",
      "        Commonly, these parameters are 1D arrays.\n",
      "    \n",
      "        They can also be scalars, or two-dimensional (in that case, the\n",
      "        columns represent separate data sets).\n",
      "    \n",
      "        These arguments cannot be passed as keywords.\n",
      "    \n",
      "    fmt : str, optional\n",
      "        A format string, e.g. 'ro' for red circles. See the *Notes*\n",
      "        section for a full description of the format strings.\n",
      "    \n",
      "        Format strings are just an abbreviation for quickly setting\n",
      "        basic line properties. All of these and more can also be\n",
      "        controlled by keyword arguments.\n",
      "    \n",
      "        This argument cannot be passed as keyword.\n",
      "    \n",
      "    data : indexable object, optional\n",
      "        An object with labelled data. If given, provide the label names to\n",
      "        plot in *x* and *y*.\n",
      "    \n",
      "        .. note::\n",
      "            Technically there's a slight ambiguity in calls where the\n",
      "            second label is a valid *fmt*. `plot('n', 'o', data=obj)`\n",
      "            could be `plt(x, y)` or `plt(y, fmt)`. In such cases,\n",
      "            the former interpretation is chosen, but a warning is issued.\n",
      "            You may suppress the warning by adding an empty format string\n",
      "            `plot('n', 'o', '', data=obj)`.\n",
      "    \n",
      "    Other Parameters\n",
      "    ----------------\n",
      "    scalex, scaley : bool, optional, default: True\n",
      "        These parameters determined if the view limits are adapted to\n",
      "        the data limits. The values are passed on to `autoscale_view`.\n",
      "    \n",
      "    **kwargs : `.Line2D` properties, optional\n",
      "        *kwargs* are used to specify properties like a line label (for\n",
      "        auto legends), linewidth, antialiasing, marker face color.\n",
      "        Example::\n",
      "    \n",
      "        >>> plot([1,2,3], [1,2,3], 'go-', label='line 1', linewidth=2)\n",
      "        >>> plot([1,2,3], [1,4,9], 'rs',  label='line 2')\n",
      "    \n",
      "        If you make multiple lines with one plot command, the kwargs\n",
      "        apply to all those lines.\n",
      "    \n",
      "        Here is a list of available `.Line2D` properties:\n",
      "    \n",
      "      agg_filter: a filter function, which takes a (m, n, 3) float array and a dpi value, and returns a (m, n, 3) array\n",
      "      alpha: float\n",
      "      animated: bool\n",
      "      antialiased or aa: bool\n",
      "      clip_box: `.Bbox`\n",
      "      clip_on: bool\n",
      "      clip_path: [(`~matplotlib.path.Path`, `.Transform`) | `.Patch` | None]\n",
      "      color or c: color\n",
      "      contains: callable\n",
      "      dash_capstyle: {'butt', 'round', 'projecting'}\n",
      "      dash_joinstyle: {'miter', 'round', 'bevel'}\n",
      "      dashes: sequence of floats (on/off ink in points) or (None, None)\n",
      "      drawstyle or ds: {'default', 'steps', 'steps-pre', 'steps-mid', 'steps-post'}, default: 'default'\n",
      "      figure: `.Figure`\n",
      "      fillstyle: {'full', 'left', 'right', 'bottom', 'top', 'none'}\n",
      "      gid: str\n",
      "      in_layout: bool\n",
      "      label: object\n",
      "      linestyle or ls: {'-', '--', '-.', ':', '', (offset, on-off-seq), ...}\n",
      "      linewidth or lw: float\n",
      "      marker: marker style\n",
      "      markeredgecolor or mec: color\n",
      "      markeredgewidth or mew: float\n",
      "      markerfacecolor or mfc: color\n",
      "      markerfacecoloralt or mfcalt: color\n",
      "      markersize or ms: float\n",
      "      markevery: None or int or (int, int) or slice or List[int] or float or (float, float)\n",
      "      path_effects: `.AbstractPathEffect`\n",
      "      picker: float or callable[[Artist, Event], Tuple[bool, dict]]\n",
      "      pickradius: float\n",
      "      rasterized: bool or None\n",
      "      sketch_params: (scale: float, length: float, randomness: float)\n",
      "      snap: bool or None\n",
      "      solid_capstyle: {'butt', 'round', 'projecting'}\n",
      "      solid_joinstyle: {'miter', 'round', 'bevel'}\n",
      "      transform: `matplotlib.transforms.Transform`\n",
      "      url: str\n",
      "      visible: bool\n",
      "      xdata: 1D array\n",
      "      ydata: 1D array\n",
      "      zorder: float\n",
      "    \n",
      "    Returns\n",
      "    -------\n",
      "    lines\n",
      "        A list of `.Line2D` objects representing the plotted data.\n",
      "    \n",
      "    See Also\n",
      "    --------\n",
      "    scatter : XY scatter plot with markers of varying size and/or color (\n",
      "        sometimes also called bubble chart).\n",
      "    \n",
      "    Notes\n",
      "    -----\n",
      "    **Format Strings**\n",
      "    \n",
      "    A format string consists of a part for color, marker and line::\n",
      "    \n",
      "        fmt = '[marker][line][color]'\n",
      "    \n",
      "    Each of them is optional. If not provided, the value from the style\n",
      "    cycle is used. Exception: If ``line`` is given, but no ``marker``,\n",
      "    the data will be a line without markers.\n",
      "    \n",
      "    Other combinations such as ``[color][marker][line]`` are also\n",
      "    supported, but note that their parsing may be ambiguous.\n",
      "    \n",
      "    **Markers**\n",
      "    \n",
      "    =============    ===============================\n",
      "    character        description\n",
      "    =============    ===============================\n",
      "    ``'.'``          point marker\n",
      "    ``','``          pixel marker\n",
      "    ``'o'``          circle marker\n",
      "    ``'v'``          triangle_down marker\n",
      "    ``'^'``          triangle_up marker\n",
      "    ``'<'``          triangle_left marker\n",
      "    ``'>'``          triangle_right marker\n",
      "    ``'1'``          tri_down marker\n",
      "    ``'2'``          tri_up marker\n",
      "    ``'3'``          tri_left marker\n",
      "    ``'4'``          tri_right marker\n",
      "    ``'s'``          square marker\n",
      "    ``'p'``          pentagon marker\n",
      "    ``'*'``          star marker\n",
      "    ``'h'``          hexagon1 marker\n",
      "    ``'H'``          hexagon2 marker\n",
      "    ``'+'``          plus marker\n",
      "    ``'x'``          x marker\n",
      "    ``'D'``          diamond marker\n",
      "    ``'d'``          thin_diamond marker\n",
      "    ``'|'``          vline marker\n",
      "    ``'_'``          hline marker\n",
      "    =============    ===============================\n",
      "    \n",
      "    **Line Styles**\n",
      "    \n",
      "    =============    ===============================\n",
      "    character        description\n",
      "    =============    ===============================\n",
      "    ``'-'``          solid line style\n",
      "    ``'--'``         dashed line style\n",
      "    ``'-.'``         dash-dot line style\n",
      "    ``':'``          dotted line style\n",
      "    =============    ===============================\n",
      "    \n",
      "    Example format strings::\n",
      "    \n",
      "        'b'    # blue markers with default shape\n",
      "        'or'   # red circles\n",
      "        '-g'   # green solid line\n",
      "        '--'   # dashed line with default color\n",
      "        '^k:'  # black triangle_up markers connected by a dotted line\n",
      "    \n",
      "    **Colors**\n",
      "    \n",
      "    The supported color abbreviations are the single letter codes\n",
      "    \n",
      "    =============    ===============================\n",
      "    character        color\n",
      "    =============    ===============================\n",
      "    ``'b'``          blue\n",
      "    ``'g'``          green\n",
      "    ``'r'``          red\n",
      "    ``'c'``          cyan\n",
      "    ``'m'``          magenta\n",
      "    ``'y'``          yellow\n",
      "    ``'k'``          black\n",
      "    ``'w'``          white\n",
      "    =============    ===============================\n",
      "    \n",
      "    and the ``'CN'`` colors that index into the default property cycle.\n",
      "    \n",
      "    If the color is the only part of the format string, you can\n",
      "    additionally use any  `matplotlib.colors` spec, e.g. full names\n",
      "    (``'green'``) or hex strings (``'#008000'``).\n",
      "\n"
     ]
    }
   ],
   "source": [
    "help(plt.plot)"
   ]
  },
  {
   "cell_type": "markdown",
   "metadata": {},
   "source": [
    "## 构建模型"
   ]
  },
  {
   "cell_type": "code",
   "execution_count": 8,
   "metadata": {},
   "outputs": [],
   "source": [
    "# 定义训练数据的占位符，x是特征值，y是标签值\n",
    "x = tf.placeholder('float', name='x')\n",
    "y = tf.placeholder('float', name='y')\n",
    "\n",
    "\n",
    "# 定义模型函数\n",
    "def model(x, w ,b):\n",
    "    return tf.multiply(x,w) +b\n",
    "\n",
    "\n",
    "# 创建变量\n",
    "# TensorFlow变量的声明函数是tf.Variable\n",
    "# tf.Variable的作用是保存和更新参数\n",
    "# 变量的初始值可以是随机数、常数或者通过其他变量的初始值计算得到\n",
    "\n",
    "# 构建线性函数的斜率，变量w\n",
    "w = tf.Variable(1.0, name='w0')\n",
    "\n",
    "# 构建线性函数的截距，变量b\n",
    "b = tf.Variable(0.0, name='b0')\n",
    "\n",
    "# pred是预测值，前向计算\n",
    "pred = model(x, w, b)"
   ]
  },
  {
   "cell_type": "markdown",
   "metadata": {},
   "source": [
    "## 训练模型"
   ]
  },
  {
   "cell_type": "code",
   "execution_count": 9,
   "metadata": {},
   "outputs": [],
   "source": [
    "# 设置训练参数\n",
    "\n",
    "# 迭代次数（训练轮数）\n",
    "train_epochs = 10\n",
    "\n",
    "# 学习率(建议一般设成0.1-0.01之间)\n",
    "learning_rate = 0.05\n",
    "\n",
    "display_step = 10 # 控制显示loss值的粒度"
   ]
  },
  {
   "cell_type": "markdown",
   "metadata": {},
   "source": [
    "## 关于学习率（learning_rate）的设置\n",
    "\n",
    "学习率的作用：控制参数更新的幅度。  \n",
    "如果学习率设置过大，可能导致参数在极值附近来回摆动，无法保证收敛。  \n",
    "如果学习率设置过小，虽然能保证收敛，但优化速度会大大降低，我们需要更多迭代次数才能达到较理想的优化效果。"
   ]
  },
  {
   "cell_type": "markdown",
   "metadata": {},
   "source": [
    "## 定义损失函数\n"
   ]
  },
  {
   "cell_type": "code",
   "execution_count": 10,
   "metadata": {},
   "outputs": [],
   "source": [
    "# 损失函数用于描述预测值与真实值之间的误差，从而指导模型收敛方向\n",
    "# 常见损失函数：均方差（Mean Square Error, MSE）和交叉熵（cross-entropy）\n",
    "\n",
    "# L2损失函数\n",
    "# 采用均方差作为损失函数\n",
    "loss_function = tf.reduce_mean(tf.square(y-pred))"
   ]
  },
  {
   "cell_type": "markdown",
   "metadata": {},
   "source": [
    "## 定义优化器\n"
   ]
  },
  {
   "cell_type": "code",
   "execution_count": 11,
   "metadata": {},
   "outputs": [],
   "source": [
    "# 定义优化器Optimizer，初始化一个GradientDescentOptimizer\n",
    "# 设置学习率和优化目标：最小化损失\n",
    "\n",
    "# 梯度下降优化器\n",
    "optimmizer = tf.train.GradientDescentOptimizer(learning_rate).minimize(loss_function)"
   ]
  },
  {
   "cell_type": "markdown",
   "metadata": {},
   "source": [
    "## 创建会话"
   ]
  },
  {
   "cell_type": "code",
   "execution_count": 12,
   "metadata": {},
   "outputs": [],
   "source": [
    "# 声明会话\n",
    "sess = tf.Session()"
   ]
  },
  {
   "cell_type": "code",
   "execution_count": 13,
   "metadata": {},
   "outputs": [],
   "source": [
    "# 变量初始化\n",
    "# 在真正执行计算之前，需要将所有变量初始化\n",
    "# 通过tf.global_variables_initializer函数可实现对所有变量的初始化\n",
    "\n",
    "init = tf.global_variables_initializer()\n",
    "\n",
    "sess.run(init)"
   ]
  },
  {
   "cell_type": "markdown",
   "metadata": {},
   "source": [
    "## 迭代训练"
   ]
  },
  {
   "cell_type": "markdown",
   "metadata": {},
   "source": [
    "### 显示损失值"
   ]
  },
  {
   "cell_type": "code",
   "execution_count": 21,
   "metadata": {},
   "outputs": [
    {
     "name": "stdout",
     "output_type": "stream",
     "text": [
      "Train Epoch: 01 Step:010 loss= 0.036219940\n",
      "Train Epoch: 01 Step:020 loss= 0.084148541\n",
      "Train Epoch: 01 Step:030 loss= 0.000472929\n",
      "Train Epoch: 01 Step:040 loss= 0.326461911\n",
      "Train Epoch: 01 Step:050 loss= 0.027518081\n",
      "Train Epoch: 01 Step:060 loss= 0.010233042\n",
      "Train Epoch: 01 Step:070 loss= 0.127347127\n",
      "Train Epoch: 01 Step:080 loss= 0.001027349\n",
      "Train Epoch: 01 Step:090 loss= 0.102888055\n",
      "Train Epoch: 01 Step:100 loss= 0.048337195\n",
      "Train Epoch: 02 Step:110 loss= 0.036219940\n",
      "Train Epoch: 02 Step:120 loss= 0.084148541\n",
      "Train Epoch: 02 Step:130 loss= 0.000472929\n",
      "Train Epoch: 02 Step:140 loss= 0.326461911\n",
      "Train Epoch: 02 Step:150 loss= 0.027518081\n",
      "Train Epoch: 02 Step:160 loss= 0.010233042\n",
      "Train Epoch: 02 Step:170 loss= 0.127347127\n",
      "Train Epoch: 02 Step:180 loss= 0.001027349\n",
      "Train Epoch: 02 Step:190 loss= 0.102888055\n",
      "Train Epoch: 02 Step:200 loss= 0.048337195\n",
      "Train Epoch: 03 Step:210 loss= 0.036219940\n",
      "Train Epoch: 03 Step:220 loss= 0.084148541\n",
      "Train Epoch: 03 Step:230 loss= 0.000472929\n",
      "Train Epoch: 03 Step:240 loss= 0.326461911\n",
      "Train Epoch: 03 Step:250 loss= 0.027518081\n",
      "Train Epoch: 03 Step:260 loss= 0.010233042\n",
      "Train Epoch: 03 Step:270 loss= 0.127347127\n",
      "Train Epoch: 03 Step:280 loss= 0.001027349\n",
      "Train Epoch: 03 Step:290 loss= 0.102888055\n",
      "Train Epoch: 03 Step:300 loss= 0.048337195\n",
      "Train Epoch: 04 Step:310 loss= 0.036219940\n",
      "Train Epoch: 04 Step:320 loss= 0.084148541\n",
      "Train Epoch: 04 Step:330 loss= 0.000472929\n",
      "Train Epoch: 04 Step:340 loss= 0.326461911\n",
      "Train Epoch: 04 Step:350 loss= 0.027518081\n",
      "Train Epoch: 04 Step:360 loss= 0.010233042\n",
      "Train Epoch: 04 Step:370 loss= 0.127347127\n",
      "Train Epoch: 04 Step:380 loss= 0.001027349\n",
      "Train Epoch: 04 Step:390 loss= 0.102888055\n",
      "Train Epoch: 04 Step:400 loss= 0.048337195\n",
      "Train Epoch: 05 Step:410 loss= 0.036219940\n",
      "Train Epoch: 05 Step:420 loss= 0.084148541\n",
      "Train Epoch: 05 Step:430 loss= 0.000472929\n",
      "Train Epoch: 05 Step:440 loss= 0.326461911\n",
      "Train Epoch: 05 Step:450 loss= 0.027518081\n",
      "Train Epoch: 05 Step:460 loss= 0.010233042\n",
      "Train Epoch: 05 Step:470 loss= 0.127347127\n",
      "Train Epoch: 05 Step:480 loss= 0.001027349\n",
      "Train Epoch: 05 Step:490 loss= 0.102888055\n",
      "Train Epoch: 05 Step:500 loss= 0.048337195\n",
      "Train Epoch: 06 Step:510 loss= 0.036219940\n",
      "Train Epoch: 06 Step:520 loss= 0.084148541\n",
      "Train Epoch: 06 Step:530 loss= 0.000472929\n",
      "Train Epoch: 06 Step:540 loss= 0.326461911\n",
      "Train Epoch: 06 Step:550 loss= 0.027518081\n",
      "Train Epoch: 06 Step:560 loss= 0.010233042\n",
      "Train Epoch: 06 Step:570 loss= 0.127347127\n",
      "Train Epoch: 06 Step:580 loss= 0.001027349\n",
      "Train Epoch: 06 Step:590 loss= 0.102888055\n",
      "Train Epoch: 06 Step:600 loss= 0.048337195\n",
      "Train Epoch: 07 Step:610 loss= 0.036219940\n",
      "Train Epoch: 07 Step:620 loss= 0.084148541\n",
      "Train Epoch: 07 Step:630 loss= 0.000472929\n",
      "Train Epoch: 07 Step:640 loss= 0.326461911\n",
      "Train Epoch: 07 Step:650 loss= 0.027518081\n",
      "Train Epoch: 07 Step:660 loss= 0.010233042\n",
      "Train Epoch: 07 Step:670 loss= 0.127347127\n",
      "Train Epoch: 07 Step:680 loss= 0.001027349\n",
      "Train Epoch: 07 Step:690 loss= 0.102888055\n",
      "Train Epoch: 07 Step:700 loss= 0.048337195\n",
      "Train Epoch: 08 Step:710 loss= 0.036219940\n",
      "Train Epoch: 08 Step:720 loss= 0.084148541\n",
      "Train Epoch: 08 Step:730 loss= 0.000472929\n",
      "Train Epoch: 08 Step:740 loss= 0.326461911\n",
      "Train Epoch: 08 Step:750 loss= 0.027518081\n",
      "Train Epoch: 08 Step:760 loss= 0.010233042\n",
      "Train Epoch: 08 Step:770 loss= 0.127347127\n",
      "Train Epoch: 08 Step:780 loss= 0.001027349\n",
      "Train Epoch: 08 Step:790 loss= 0.102888055\n",
      "Train Epoch: 08 Step:800 loss= 0.048337195\n",
      "Train Epoch: 09 Step:810 loss= 0.036219940\n",
      "Train Epoch: 09 Step:820 loss= 0.084148541\n",
      "Train Epoch: 09 Step:830 loss= 0.000472929\n",
      "Train Epoch: 09 Step:840 loss= 0.326461911\n",
      "Train Epoch: 09 Step:850 loss= 0.027518081\n",
      "Train Epoch: 09 Step:860 loss= 0.010233042\n",
      "Train Epoch: 09 Step:870 loss= 0.127347127\n",
      "Train Epoch: 09 Step:880 loss= 0.001027349\n",
      "Train Epoch: 09 Step:890 loss= 0.102888055\n",
      "Train Epoch: 09 Step:900 loss= 0.048337195\n",
      "Train Epoch: 10 Step:910 loss= 0.036219940\n",
      "Train Epoch: 10 Step:920 loss= 0.084148541\n",
      "Train Epoch: 10 Step:930 loss= 0.000472929\n",
      "Train Epoch: 10 Step:940 loss= 0.326461911\n",
      "Train Epoch: 10 Step:950 loss= 0.027518081\n",
      "Train Epoch: 10 Step:960 loss= 0.010233042\n",
      "Train Epoch: 10 Step:970 loss= 0.127347127\n",
      "Train Epoch: 10 Step:980 loss= 0.001027349\n",
      "Train Epoch: 10 Step:990 loss= 0.102888055\n",
      "Train Epoch: 10 Step:1000 loss= 0.048337195\n"
     ]
    },
    {
     "data": {
      "image/png": "[encoded data removed]",
      "text/plain": [
       "<Figure size 432x288 with 1 Axes>"
      ]
     },
     "metadata": {
      "needs_background": "light"
     },
     "output_type": "display_data"
    }
   ],
   "source": [
    "# 模型训练阶段，设置迭代轮次，每次通过将样本逐个输入模型，进行梯度下降优化操作，每轮迭代后，绘制出模型曲线\n",
    "\n",
    "\n",
    "step = 0 # 记录训练步数\n",
    "loss_list = [] # 用于保存loss值的列表\n",
    "\n",
    "# 开始训练，轮数为epoch，采用SGD随机梯度下降优化方法\n",
    "for epoch in range(train_epochs):\n",
    "    for xs, ys in zip(x_data, y_data):\n",
    "        _, loss = sess.run([optimmizer, loss_function], feed_dict={x: xs, y:ys})\n",
    "        \n",
    "        # 显示损失值loss\n",
    "        # display_step:控制报告的粒度\n",
    "        # 例如，如果display_step设为2，则将每训练2个样本输出一次损失值\n",
    "        # 与超参数不同，修改display_step不会更改模型所学习的规律\n",
    "        loss_list.append(loss)\n",
    "        step = step + 1\n",
    "        if step % display_step == 0:\n",
    "            print('Train Epoch:', '%02d' % (epoch+1), 'Step:%03d' % (step),\n",
    "                 \"loss=\", \"{:.9f}\".format(loss))\n",
    "            \n",
    "    b0temp = b.eval(session=sess)\n",
    "    w0temp = w.eval(session=sess)\n",
    "    \n",
    "    plt.plot(x_data, w0temp*x_data+b0temp)# 画图"
   ]
  },
  {
   "cell_type": "markdown",
   "metadata": {},
   "source": [
    "## 图形化显示损失值"
   ]
  },
  {
   "cell_type": "code",
   "execution_count": 18,
   "metadata": {},
   "outputs": [
    {
     "data": {
      "text/plain": [
       "[<matplotlib.lines.Line2D at 0x204fbe4dec8>]"
      ]
     },
     "execution_count": 18,
     "metadata": {},
     "output_type": "execute_result"
    },
    {
     "data": {
      "image/png": "[encoded data removed]",
      "text/plain": [
       "<Figure size 432x288 with 1 Axes>"
      ]
     },
     "metadata": {
      "needs_background": "light"
     },
     "output_type": "display_data"
    }
   ],
   "source": [
    "plt.plot(loss_list)"
   ]
  },
  {
   "cell_type": "code",
   "execution_count": 19,
   "metadata": {},
   "outputs": [
    {
     "data": {
      "text/plain": [
       "[<matplotlib.lines.Line2D at 0x204fdfebc88>]"
      ]
     },
     "execution_count": 19,
     "metadata": {},
     "output_type": "execute_result"
    },
    {
     "data": {
      "image/png": "[encoded data removed]",
      "text/plain": [
       "<Figure size 432x288 with 1 Axes>"
      ]
     },
     "metadata": {
      "needs_background": "light"
     },
     "output_type": "display_data"
    }
   ],
   "source": [
    "plt.plot(loss_list, 'r+')"
   ]
  },
  {
   "cell_type": "code",
   "execution_count": 22,
   "metadata": {},
   "outputs": [
    {
     "data": {
      "text/plain": [
       "[1.551758,\n",
       " 1.551758,\n",
       " 1.551758,\n",
       " 1.551758,\n",
       " 1.551758,\n",
       " 1.551758,\n",
       " 1.551758,\n",
       " 1.551758,\n",
       " 1.551758,\n",
       " 1.551758]"
      ]
     },
     "execution_count": 22,
     "metadata": {},
     "output_type": "execute_result"
    }
   ],
   "source": [
    "[x for x in loss_list if x>1]"
   ]
  },
  {
   "cell_type": "markdown",
   "metadata": {},
   "source": [
    "## 随机梯度下降  \n",
    "在梯度下降法中，批量指的是用于在单次迭代中计算梯度的样本总数。  \n",
    "\n",
    "假定批量是指整个数据集，数据集通常包含很大样本（数万甚至数千亿），此外，数据集通常包含多个特征。因此，一个批量可能相当巨大。如果是超大批量，则单词迭代就可能要花费很长时间进行计算。  \n",
    "\n",
    "随机梯度下降法（SGD）每次迭代只使用一个样本（批量大小为1），如果进行足够的迭代，SGD也可以发挥作用。“随机”这一术语表示构成各个批量的一个样本都是随机选择的。  \n",
    "\n",
    "小批量随机梯度下降法（小批量SGD）是介于全批量与SGD之间的折衷方案。小批量通常包含10-1000个随机选择的样本。小批量SGD可以减少SGD中的杂乱样本数量，但仍然 比全批量更高效。"
   ]
  },
  {
   "cell_type": "markdown",
   "metadata": {},
   "source": [
    "## 进行预测\n"
   ]
  },
  {
   "cell_type": "code",
   "execution_count": 15,
   "metadata": {},
   "outputs": [
    {
     "name": "stdout",
     "output_type": "stream",
     "text": [
      "预测值：7.405184\n",
      "目标值：7.420000\n"
     ]
    }
   ],
   "source": [
    "x_test = 3.21\n",
    "\n",
    "predict = sess.run(pred, feed_dict={x:x_test})\n",
    "print('预测值：%f'%predict)\n",
    "\n",
    "target = 2*x_test + 1.0\n",
    "print('目标值：%f'%target)"
   ]
  },
  {
   "cell_type": "code",
   "execution_count": null,
   "metadata": {},
   "outputs": [],
   "source": []
  }
 ],
 "metadata": {
  "kernelspec": {
   "display_name": "Python [conda env:tensorflow1] *",
   "language": "python",
   "name": "conda-env-tensorflow1-py"
  },
  "language_info": {
   "codemirror_mode": {
    "name": "ipython",
    "version": 3
   },
   "file_extension": ".py",
   "mimetype": "text/x-python",
   "name": "python",
   "nbconvert_exporter": "python",
   "pygments_lexer": "ipython3",
   "version": "3.7.4"
  }
 },
 "nbformat": 4,
 "nbformat_minor": 2
}

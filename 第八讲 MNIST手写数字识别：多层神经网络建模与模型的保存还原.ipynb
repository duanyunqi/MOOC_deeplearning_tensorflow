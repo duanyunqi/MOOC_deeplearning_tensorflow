{
 "cells": [
  {
   "cell_type": "code",
   "execution_count": 32,
   "metadata": {},
   "outputs": [
    {
     "name": "stdout",
     "output_type": "stream",
     "text": [
      "Extracting MNIST_data/train-images-idx3-ubyte.gz\n",
      "Extracting MNIST_data/train-labels-idx1-ubyte.gz\n",
      "Extracting MNIST_data/t10k-images-idx3-ubyte.gz\n",
      "Extracting MNIST_data/t10k-labels-idx1-ubyte.gz\n"
     ]
    }
   ],
   "source": [
    "# TensorFlow提供了数据集读取方法\n",
    "\n",
    "import tensorflow as tf\n",
    "import tensorflow.examples.tutorials.mnist.input_data as input_data\n",
    "\n",
    "mnist = input_data.read_data_sets('MNIST_data/', one_hot=True)"
   ]
  },
  {
   "cell_type": "code",
   "execution_count": 2,
   "metadata": {},
   "outputs": [
    {
     "name": "stdout",
     "output_type": "stream",
     "text": [
      "训练集数量： 55000 验证集数量： 5000 测试集数量： 10000\n"
     ]
    }
   ],
   "source": [
    "print('训练集数量：',mnist.train.num_examples,\n",
    "      '验证集数量：',mnist.validation.num_examples,\n",
    "      '测试集数量：',mnist.test.num_examples)"
   ]
  },
  {
   "cell_type": "code",
   "execution_count": 3,
   "metadata": {},
   "outputs": [
    {
     "name": "stdout",
     "output_type": "stream",
     "text": [
      "train images shape: (55000, 784) labels shape: (55000, 10)\n"
     ]
    }
   ],
   "source": [
    "# 28*28=784, 10分类one hot编码\n",
    "print('train images shape:', mnist.train.images.shape,\n",
    "      'labels shape:', mnist.train.labels.shape)"
   ]
  },
  {
   "cell_type": "code",
   "execution_count": 4,
   "metadata": {},
   "outputs": [
    {
     "data": {
      "text/plain": [
       "784"
      ]
     },
     "execution_count": 4,
     "metadata": {},
     "output_type": "execute_result"
    }
   ],
   "source": [
    "len(mnist.train.images[0])"
   ]
  },
  {
   "cell_type": "code",
   "execution_count": 5,
   "metadata": {},
   "outputs": [],
   "source": [
    "# mnist.train.images[0].shape"
   ]
  },
  {
   "cell_type": "code",
   "execution_count": 6,
   "metadata": {},
   "outputs": [],
   "source": [
    "# mnist.train.images[0]"
   ]
  },
  {
   "cell_type": "code",
   "execution_count": 7,
   "metadata": {},
   "outputs": [],
   "source": [
    "# mnist.train.images[0].reshape(28,28)"
   ]
  },
  {
   "cell_type": "markdown",
   "metadata": {},
   "source": [
    "## 显示图像"
   ]
  },
  {
   "cell_type": "code",
   "execution_count": 8,
   "metadata": {},
   "outputs": [],
   "source": [
    "import matplotlib.pyplot as plt\n",
    "\n",
    "def plot_image(image):\n",
    "    plt.imshow(image.reshape(28, 28), cmap='binary')\n",
    "    plt.show()"
   ]
  },
  {
   "cell_type": "code",
   "execution_count": 9,
   "metadata": {},
   "outputs": [
    {
     "data": {
      "image/png": "[encoded data removed]",
      "text/plain": [
       "<Figure size 432x288 with 1 Axes>"
      ]
     },
     "metadata": {
      "needs_background": "light"
     },
     "output_type": "display_data"
    }
   ],
   "source": [
    "plot_image(mnist.train.images[9])"
   ]
  },
  {
   "cell_type": "markdown",
   "metadata": {},
   "source": [
    "## 构建输入层"
   ]
  },
  {
   "cell_type": "code",
   "execution_count": 10,
   "metadata": {},
   "outputs": [],
   "source": [
    "## 定义带输入数据的占位符\n",
    "x = tf.placeholder(tf.float32, [None, 784], name='X')\n",
    "\n",
    "y = tf.placeholder(tf.float32, [None, 10], name='Y')"
   ]
  },
  {
   "cell_type": "markdown",
   "metadata": {},
   "source": [
    "## 构建模型\n"
   ]
  },
  {
   "cell_type": "code",
   "execution_count": 11,
   "metadata": {},
   "outputs": [],
   "source": [
    "# 隐藏层神经元数量\n",
    "H1_NN = 256 # 第1隐藏层神经元为256个\n",
    "H2_NN = 64  # 第2隐藏层神经元为64个\n",
    "\n",
    "# 输入层——第1隐藏层参数和偏置项\n",
    "# truncated_normal:阶段随机数生成，多层神经网络中建议使用阶段随机数生成\n",
    "W1 = tf.Variable(tf.truncated_normal([784, H1_NN], stddev=0.1))\n",
    "b1 = tf.Variable(tf.zeros([H1_NN]))\n",
    "\n",
    "# 第1隐藏层——第2隐藏层参数和偏置项\n",
    "W2 = tf.Variable(tf.truncated_normal([H1_NN, H2_NN], stddev=0.1))\n",
    "b2 = tf.Variable(tf.zeros([H2_NN]))\n",
    "\n",
    "# 第2隐藏层——输出层参数和偏置项\n",
    "W3 = tf.Variable(tf.truncated_normal([H2_NN, 10], stddev=0.1))\n",
    "b3 = tf.Variable(tf.zeros([10]))\n",
    "\n",
    "# 计算第1隐藏层结果\n",
    "Y1 = tf.nn.relu(tf.matmul(x, W1) + b1)\n",
    "\n",
    "# 计算第2隐藏层结果\n",
    "Y2 = tf.nn.relu(tf.matmul(Y1, W2) + b2)\n",
    "\n",
    "# 计算输出结果\n",
    "forward = tf.matmul(Y2, W3) + b3\n",
    "pred = tf.nn.softmax(forward)"
   ]
  },
  {
   "cell_type": "markdown",
   "metadata": {},
   "source": [
    "## 定义全连接层函数"
   ]
  },
  {
   "cell_type": "code",
   "execution_count": 12,
   "metadata": {},
   "outputs": [],
   "source": [
    "def fcn_layer(inputs,       # 输入数据\n",
    "              input_dim,    # 输入神经元数量\n",
    "              output_dim,    # 输出神经元数量\n",
    "              activation=None    # 激活函数\n",
    "              ):\n",
    "    # 以截断正态分布的随机树初始化W\n",
    "    W = tf.Variable(tf.truncated_normal([input_dim, output_dim], stddev=0.1))\n",
    "       \n",
    "    # 以0初始化b\n",
    "    b = tf.Variable(tf.zeros([output_dim]))\n",
    "    \n",
    "    XWb = tf.matmul(inputs, W) + b # 建议表达式：inputs * W + b\n",
    "    \n",
    "    if activation is None:  # 默认不适用激活函数\n",
    "        outputs = XWb\n",
    "    else:                   # 若传入激活函数，则用其对输出结果进行变换\n",
    "        outputs = activation(XWb)\n",
    "        \n",
    "    return outputs"
   ]
  },
  {
   "cell_type": "markdown",
   "metadata": {},
   "source": [
    "## 训练模型"
   ]
  },
  {
   "cell_type": "code",
   "execution_count": 13,
   "metadata": {},
   "outputs": [],
   "source": [
    "# 设置训练参数\n",
    "train_epochs = 40 # 训练轮数\n",
    "batch_size = 50 # 单次训练样本数\n",
    "total_batch = int(mnist.train.num_examples/batch_size) # 一轮训练有多少批次\n",
    "display_step = 1 # 显示粒度\n",
    "learning_rate = 0.01 # 学习率"
   ]
  },
  {
   "cell_type": "code",
   "execution_count": 14,
   "metadata": {},
   "outputs": [
    {
     "name": "stdout",
     "output_type": "stream",
     "text": [
      "WARNING:tensorflow:From <ipython-input-14-68d62caa274f>:5: softmax_cross_entropy_with_logits (from tensorflow.python.ops.nn_ops) is deprecated and will be removed in a future version.\n",
      "Instructions for updating:\n",
      "\n",
      "Future major versions of TensorFlow will allow gradients to flow\n",
      "into the labels input on backprop by default.\n",
      "\n",
      "See `tf.nn.softmax_cross_entropy_with_logits_v2`.\n",
      "\n"
     ]
    }
   ],
   "source": [
    "## 定义损失函数-交叉熵\n",
    "# 使用结合softmax的交叉熵损失函数定义方法\n",
    "# loss_function = tf.reduce_mean(-tf.reduce_sum(y*tf.log(pred),reduction_indices=1))\n",
    "loss_function = tf.reduce_mean(\n",
    "        tf.nn.softmax_cross_entropy_with_logits(logits=forward, labels=y))\n",
    "# 这里计算的损失函数的值是不做softmax的数据，经过softmax后，如果为0，会使计算结果发散"
   ]
  },
  {
   "cell_type": "code",
   "execution_count": 15,
   "metadata": {},
   "outputs": [],
   "source": [
    "## 选择优化器-Adam优化器\n",
    "optimizer = tf.train.AdamOptimizer(learning_rate).minimize(loss_function)"
   ]
  },
  {
   "cell_type": "code",
   "execution_count": 16,
   "metadata": {},
   "outputs": [],
   "source": [
    "## 定义准确率\n",
    "## 检查预测类别tf.argmax(pred, 1)与实际类别tf.argmax(y, 1)的匹配情况\n",
    "correct_prediction = tf.equal(tf.argmax(pred, 1), tf.argmax(y,1))"
   ]
  },
  {
   "cell_type": "code",
   "execution_count": 17,
   "metadata": {},
   "outputs": [],
   "source": [
    "# 准确率，将布尔值转化为浮点数，并计算平均值\n",
    "accuracy = tf.reduce_mean(tf.cast(correct_prediction, tf.float32))"
   ]
  },
  {
   "cell_type": "markdown",
   "metadata": {},
   "source": [
    "## 训练模型的保存\n",
    "\n",
    "模型保存机制中，缺省最多保存最近5份模型"
   ]
  },
  {
   "cell_type": "code",
   "execution_count": 18,
   "metadata": {},
   "outputs": [],
   "source": [
    "# 初始化参数和文件目录\n",
    "# 存储模型的粒度\n",
    "save_step = 5\n",
    "\n",
    "# 创建保存模型文件的目录\n",
    "import os\n",
    "\n",
    "ckpt_dir = './ckpt_dir/'\n",
    "if not os.path.exists(ckpt_dir):\n",
    "    os.makedirs(ckpt_dir)\n",
    "    \n",
    "# 训练并存储模型\n",
    "# 声明完所有变量后，调用tf.train.Saver\n",
    "saver = tf.train.Saver()"
   ]
  },
  {
   "cell_type": "markdown",
   "metadata": {},
   "source": [
    "## 模型训练"
   ]
  },
  {
   "cell_type": "code",
   "execution_count": 19,
   "metadata": {},
   "outputs": [],
   "source": [
    "# 记录训练开始时间\n",
    "from time import time\n",
    "startTime = time()\n",
    "\n",
    "sess = tf.Session() # 声明会话\n",
    "init = tf.global_variables_initializer() # 变量初始化\n",
    "sess.run(init)"
   ]
  },
  {
   "cell_type": "code",
   "execution_count": 20,
   "metadata": {},
   "outputs": [
    {
     "name": "stdout",
     "output_type": "stream",
     "text": [
      "Train Epoch: 01 loss= 0.169140399 Accuracy= 0.9504\n",
      "Train Epoch: 02 loss= 0.155493498 Accuracy= 0.9592\n",
      "Train Epoch: 03 loss= 0.169679657 Accuracy= 0.9608\n",
      "Train Epoch: 04 loss= 0.161101177 Accuracy= 0.9554\n",
      "Train Epoch: 05 loss= 0.154758677 Accuracy= 0.9642\n",
      "mnist_h256_model_000005.ckpt saved\n",
      "Train Epoch: 06 loss= 0.150445566 Accuracy= 0.9686\n",
      "Train Epoch: 07 loss= 0.154603347 Accuracy= 0.9680\n",
      "Train Epoch: 08 loss= 0.155777395 Accuracy= 0.9702\n",
      "Train Epoch: 09 loss= 0.160262972 Accuracy= 0.9650\n",
      "Train Epoch: 10 loss= 0.184112787 Accuracy= 0.9660\n",
      "mnist_h256_model_000010.ckpt saved\n",
      "Train Epoch: 11 loss= 0.153630078 Accuracy= 0.9712\n",
      "Train Epoch: 12 loss= 0.177317142 Accuracy= 0.9672\n",
      "Train Epoch: 13 loss= 0.185638577 Accuracy= 0.9678\n",
      "Train Epoch: 14 loss= 0.179568723 Accuracy= 0.9746\n",
      "Train Epoch: 15 loss= 0.187161475 Accuracy= 0.9716\n",
      "mnist_h256_model_000015.ckpt saved\n",
      "Train Epoch: 16 loss= 0.187203899 Accuracy= 0.9730\n",
      "Train Epoch: 17 loss= 0.181221053 Accuracy= 0.9722\n",
      "Train Epoch: 18 loss= 0.180773333 Accuracy= 0.9790\n",
      "Train Epoch: 19 loss= 0.226658687 Accuracy= 0.9698\n",
      "Train Epoch: 20 loss= 0.215438575 Accuracy= 0.9710\n",
      "mnist_h256_model_000020.ckpt saved\n",
      "Train Epoch: 21 loss= 0.180183768 Accuracy= 0.9720\n",
      "Train Epoch: 22 loss= 0.233711347 Accuracy= 0.9698\n",
      "Train Epoch: 23 loss= 0.237493455 Accuracy= 0.9714\n",
      "Train Epoch: 24 loss= 0.309590042 Accuracy= 0.9676\n",
      "Train Epoch: 25 loss= 0.258612633 Accuracy= 0.9680\n",
      "mnist_h256_model_000025.ckpt saved\n",
      "Train Epoch: 26 loss= 0.331484705 Accuracy= 0.9716\n",
      "Train Epoch: 27 loss= 0.223888189 Accuracy= 0.9712\n",
      "Train Epoch: 28 loss= 0.274831682 Accuracy= 0.9740\n",
      "Train Epoch: 29 loss= 0.270813048 Accuracy= 0.9720\n",
      "Train Epoch: 30 loss= 0.268778265 Accuracy= 0.9706\n",
      "WARNING:tensorflow:From D:\\SoftWare\\Anaconda3\\envs\\tensorflow1\\lib\\site-packages\\tensorflow\\python\\training\\saver.py:960: remove_checkpoint (from tensorflow.python.training.checkpoint_management) is deprecated and will be removed in a future version.\n",
      "Instructions for updating:\n",
      "Use standard file APIs to delete files with this prefix.\n",
      "mnist_h256_model_000030.ckpt saved\n",
      "Train Epoch: 31 loss= 0.288836539 Accuracy= 0.9686\n",
      "Train Epoch: 32 loss= 0.321693271 Accuracy= 0.9684\n",
      "Train Epoch: 33 loss= 0.268111050 Accuracy= 0.9710\n",
      "Train Epoch: 34 loss= 0.267759055 Accuracy= 0.9746\n",
      "Train Epoch: 35 loss= 0.256486326 Accuracy= 0.9734\n",
      "mnist_h256_model_000035.ckpt saved\n",
      "Train Epoch: 36 loss= 0.331212312 Accuracy= 0.9704\n",
      "Train Epoch: 37 loss= 0.304618597 Accuracy= 0.9750\n",
      "Train Epoch: 38 loss= 0.312575310 Accuracy= 0.9760\n",
      "Train Epoch: 39 loss= 0.371533900 Accuracy= 0.9746\n",
      "Train Epoch: 40 loss= 0.289654493 Accuracy= 0.9724\n",
      "mnist_h256_model_000040.ckpt saved\n",
      "Model saved!\n",
      "Train Finished takes: 63.53\n"
     ]
    }
   ],
   "source": [
    "## 开始训练\n",
    "for epoch in range(train_epochs):\n",
    "    for batch in range(total_batch):\n",
    "        xs, ys = mnist.train.next_batch(batch_size) # 读取批次数据\n",
    "        sess.run(optimizer, feed_dict={x:xs, y:ys}) # 执行批次训练\n",
    "        \n",
    "    # total_batch个批次训练完成后，使用验证数据计算误差与准确率，验证集没有分批\n",
    "    loss, acc = sess.run([loss_function, accuracy], \n",
    "                         feed_dict={x:mnist.validation.images, y:mnist.validation.labels})\n",
    "    \n",
    "    # 打印训练过程中的详细信息\n",
    "    if(epoch+1) % display_step ==0:\n",
    "        print('Train Epoch:', '%02d' % (epoch+1), 'loss=', '{:.9f}'.format(loss),\\\n",
    "             'Accuracy=', '{:.4f}'.format(acc))\n",
    "    \n",
    "    # 保存模型\n",
    "    if(epoch+1) % save_step == 0:\n",
    "        # 参数1：模型所有参数，参数2：保存目录\n",
    "        saver.save(sess, os.path.join(ckpt_dir, \n",
    "                                      'mnist_h256_model_{:06d}.ckpt'.format(epoch+1))) #存储模型\n",
    "        print('mnist_h256_model_{:06d}.ckpt saved'.format(epoch+1))\n",
    "\n",
    "# 保存最终模型训练结果\n",
    "saver.save(sess, os.path.join(ckpt_dir, 'mnist_h256_model.ckpt'))\n",
    "print('Model saved!')\n",
    "\n",
    "# 显示运行总时间\n",
    "duration = time()-startTime\n",
    "print('Train Finished takes:', '{:.2f}'.format(duration))"
   ]
  },
  {
   "cell_type": "markdown",
   "metadata": {},
   "source": [
    "## 评估模型"
   ]
  },
  {
   "cell_type": "markdown",
   "metadata": {},
   "source": [
    "### 完成训练后，在测试集上评估模型的准确率"
   ]
  },
  {
   "cell_type": "code",
   "execution_count": 21,
   "metadata": {},
   "outputs": [
    {
     "name": "stdout",
     "output_type": "stream",
     "text": [
      "Test Accuracy: 0.9676\n"
     ]
    }
   ],
   "source": [
    "accu_test = sess.run(accuracy, \n",
    "                     feed_dict={x:mnist.test.images, y:mnist.test.labels})\n",
    "\n",
    "print('Test Accuracy:', accu_test)"
   ]
  },
  {
   "cell_type": "markdown",
   "metadata": {},
   "source": [
    "### 完成训练后，在验证集上评估模型的准确率"
   ]
  },
  {
   "cell_type": "code",
   "execution_count": 22,
   "metadata": {},
   "outputs": [
    {
     "name": "stdout",
     "output_type": "stream",
     "text": [
      "Validation Accuracy: 0.9724\n"
     ]
    }
   ],
   "source": [
    "accu_validation = sess.run(accuracy, \n",
    "                     feed_dict={x:mnist.validation.images, y:mnist.validation.labels})\n",
    "\n",
    "print('Validation Accuracy:', accu_validation)"
   ]
  },
  {
   "cell_type": "markdown",
   "metadata": {},
   "source": [
    "### 完成训练后，在训练集上评估模型的准确率"
   ]
  },
  {
   "cell_type": "code",
   "execution_count": 23,
   "metadata": {},
   "outputs": [
    {
     "name": "stdout",
     "output_type": "stream",
     "text": [
      "Train Accuracy: 0.98867273\n"
     ]
    }
   ],
   "source": [
    "accu_train = sess.run(accuracy,\n",
    "                     feed_dict={x:mnist.train.images, y:mnist.train.labels})\n",
    "print('Train Accuracy:', accu_train)"
   ]
  },
  {
   "cell_type": "markdown",
   "metadata": {},
   "source": [
    "多层效果不一定比单层网络效果好！"
   ]
  },
  {
   "cell_type": "markdown",
   "metadata": {},
   "source": [
    "## 模型应用"
   ]
  },
  {
   "cell_type": "markdown",
   "metadata": {},
   "source": [
    "### 在建立模型并进行训练后，若认为准确率可以接受，则可以使用此模型进行预测"
   ]
  },
  {
   "cell_type": "code",
   "execution_count": 24,
   "metadata": {},
   "outputs": [],
   "source": [
    "# 由于pred预测结果是one-hot编码格式，所以需要转换为0~9数字\n",
    "prediction_result = sess.run(tf.argmax(pred, 1),\n",
    "                             feed_dict={x:mnist.test.images})"
   ]
  },
  {
   "cell_type": "code",
   "execution_count": 25,
   "metadata": {},
   "outputs": [
    {
     "data": {
      "text/plain": [
       "array([7, 2, 1, 0, 4, 1, 4, 9, 5, 9], dtype=int64)"
      ]
     },
     "execution_count": 25,
     "metadata": {},
     "output_type": "execute_result"
    }
   ],
   "source": [
    "# 查看预测结果中的前10项\n",
    "prediction_result[:10]"
   ]
  },
  {
   "cell_type": "markdown",
   "metadata": {},
   "source": [
    "## 可视化预测结果"
   ]
  },
  {
   "cell_type": "code",
   "execution_count": 26,
   "metadata": {},
   "outputs": [],
   "source": [
    "import matplotlib.pyplot as plt\n",
    "import numpy as np\n",
    "\n",
    "def plot_images_labels_prediction(images,# 图像列表\n",
    "                                  labels, # 标签列表\n",
    "                                  prediction, # 预测值列表\n",
    "                                  index, # 从第index个开始显示\n",
    "                                  num=10):# 缺省一次显示10幅\n",
    "    fig = plt.gcf() # 获取当前图表\n",
    "    fig.set_size_inches(10, 12) # 1英寸等于2.54cn\n",
    "    if num > 25:\n",
    "        num = 25 #最多显示25个子图\n",
    "        \n",
    "    for i in range(0, num):\n",
    "        ax = plt.subplot(5,5,i+1) # 获取当前要处理的子图\n",
    "        ax.imshow(np.reshape(images[index], (28, 28)), # 显示第index个图像\n",
    "                 cmap='binary')\n",
    "        \n",
    "        title = 'label=' + str(np.argmax(labels[index])) # 构建该图上要显示的title\n",
    "        if len(prediction)>0:\n",
    "            title += ',prediction=' + str(prediction[index]) \n",
    "        \n",
    "        ax.set_title(title, fontsize=10) # 显示图上的title信息\n",
    "        ax.set_xticks([])\n",
    "        ax.set_yticks([])\n",
    "        index +=1\n",
    "        \n",
    "    plt.show()"
   ]
  },
  {
   "cell_type": "code",
   "execution_count": 27,
   "metadata": {},
   "outputs": [
    {
     "data": {
      "image/png": "[encoded data removed]",
      "text/plain": [
       "<Figure size 720x864 with 25 Axes>"
      ]
     },
     "metadata": {},
     "output_type": "display_data"
    }
   ],
   "source": [
    "plot_images_labels_prediction(mnist.test.images,\n",
    "                              mnist.test.labels,\n",
    "                              prediction_result, 10, 25)"
   ]
  },
  {
   "cell_type": "markdown",
   "metadata": {},
   "source": [
    "## 找出预测错误的样本"
   ]
  },
  {
   "cell_type": "code",
   "execution_count": 28,
   "metadata": {},
   "outputs": [
    {
     "name": "stdout",
     "output_type": "stream",
     "text": [
      "[ True  True  True ...  True  True  True]\n"
     ]
    }
   ],
   "source": [
    "compare_lists = prediction_result==np.argmax(mnist.test.labels, 1)\n",
    "print(compare_lists)"
   ]
  },
  {
   "cell_type": "code",
   "execution_count": 29,
   "metadata": {},
   "outputs": [
    {
     "name": "stdout",
     "output_type": "stream",
     "text": [
      "[149, 175, 217, 247, 259, 320, 321, 340, 445, 447, 448, 449, 456, 495, 551, 582, 583, 610, 619, 659, 667, 684, 717, 720, 839, 877, 882, 924, 951, 956, 965, 969, 1014, 1032, 1039, 1044, 1112, 1114, 1156, 1178, 1181, 1182, 1226, 1232, 1241, 1242, 1247, 1260, 1282, 1290, 1299, 1319, 1326, 1328, 1393, 1395, 1414, 1425, 1444, 1466, 1494, 1500, 1520, 1530, 1549, 1551, 1553, 1554, 1569, 1621, 1641, 1678, 1681, 1751, 1754, 1790, 1800, 1871, 1883, 1901, 1903, 1941, 1987, 2016, 2018, 2028, 2035, 2053, 2063, 2093, 2098, 2118, 2130, 2135, 2161, 2162, 2182, 2215, 2224, 2272, 2291, 2293, 2298, 2369, 2381, 2387, 2393, 2422, 2433, 2454, 2462, 2488, 2517, 2597, 2607, 2648, 2654, 2721, 2730, 2751, 2770, 2810, 2863, 2877, 2896, 2915, 2927, 2939, 2970, 2979, 2995, 3062, 3073, 3117, 3130, 3207, 3225, 3239, 3250, 3284, 3289, 3318, 3333, 3422, 3475, 3490, 3503, 3520, 3558, 3559, 3575, 3580, 3597, 3604, 3662, 3674, 3702, 3751, 3757, 3767, 3776, 3780, 3796, 3808, 3818, 3838, 3853, 3871, 3902, 3906, 3941, 3976, 3986, 4000, 4063, 4065, 4075, 4078, 4093, 4139, 4140, 4149, 4154, 4176, 4199, 4205, 4224, 4248, 4259, 4285, 4289, 4297, 4300, 4315, 4359, 4369, 4374, 4400, 4433, 4497, 4498, 4536, 4571, 4578, 4601, 4619, 4639, 4713, 4731, 4761, 4807, 4808, 4814, 4823, 4838, 4860, 4874, 4880, 4886, 4890, 4939, 4966, 4978, 4997, 5086, 5201, 5331, 5457, 5634, 5642, 5676, 5678, 5749, 5841, 5877, 5887, 5888, 5937, 5955, 5985, 5997, 6035, 6053, 6101, 6173, 6505, 6555, 6568, 6577, 6597, 6608, 6625, 6632, 6651, 6735, 6755, 6783, 6847, 6945, 7081, 7208, 7216, 7233, 7338, 7434, 7492, 7539, 7574, 7729, 7732, 7783, 7797, 7812, 7842, 7850, 7897, 7921, 7971, 8059, 8094, 8095, 8277, 8325, 8408, 8453, 8504, 8519, 8520, 8522, 8527, 9009, 9015, 9019, 9024, 9071, 9252, 9253, 9587, 9634, 9664, 9679, 9692, 9698, 9716, 9719, 9726, 9729, 9740, 9745, 9749, 9768, 9770, 9779, 9783, 9792, 9793, 9811, 9829, 9839, 9858, 9888, 9890, 9944, 9982] 324\n"
     ]
    }
   ],
   "source": [
    "err_lists = [i for i in range(len(compare_lists)) if compare_lists[i]==False]\n",
    "print(err_lists, len(err_lists))"
   ]
  },
  {
   "cell_type": "markdown",
   "metadata": {},
   "source": [
    "## 定义一个输出错误分类的函数"
   ]
  },
  {
   "cell_type": "code",
   "execution_count": 30,
   "metadata": {},
   "outputs": [],
   "source": [
    "def print_predict_errs(labels, prediction):\n",
    "    count = 0\n",
    "    compare_lists = (prediction==np.argmax(labels, 1))\n",
    "    err_lists = [i for i in range(len(compare_lists)) if compare_lists[i]==False]\n",
    "    for x in err_lists:\n",
    "        print('index='+str(x)+\n",
    "              '标签值=', np.argmax(labels[x]),\n",
    "              '预测值=', prediction[x])\n",
    "        count += 1\n",
    "    print('总计：'+str(count))"
   ]
  },
  {
   "cell_type": "code",
   "execution_count": 31,
   "metadata": {},
   "outputs": [
    {
     "name": "stdout",
     "output_type": "stream",
     "text": [
      "index=149标签值= 2 预测值= 3\n",
      "index=175标签值= 7 预测值= 3\n",
      "index=217标签值= 6 预测值= 5\n",
      "index=247标签值= 4 预测值= 6\n",
      "index=259标签值= 6 预测值= 0\n",
      "index=320标签值= 9 预测值= 3\n",
      "index=321标签值= 2 预测值= 7\n",
      "index=340标签值= 5 预测值= 3\n",
      "index=445标签值= 6 预测值= 0\n",
      "index=447标签值= 4 预测值= 9\n",
      "index=448标签值= 9 预测值= 3\n",
      "index=449标签值= 3 预测值= 5\n",
      "index=456标签值= 2 预测值= 3\n",
      "index=495标签值= 8 预测值= 3\n",
      "index=551标签值= 7 预测值= 3\n",
      "index=582标签值= 8 预测值= 2\n",
      "index=583标签值= 2 预测值= 3\n",
      "index=610标签值= 4 预测值= 3\n",
      "index=619标签值= 1 预测值= 8\n",
      "index=659标签值= 2 预测值= 3\n",
      "index=667标签值= 7 预测值= 3\n",
      "index=684标签值= 7 预测值= 3\n",
      "index=717标签值= 0 预测值= 3\n",
      "index=720标签值= 5 预测值= 8\n",
      "index=839标签值= 8 预测值= 3\n",
      "index=877标签值= 8 预测值= 3\n",
      "index=882标签值= 9 预测值= 7\n",
      "index=924标签值= 2 预测值= 3\n",
      "index=951标签值= 5 预测值= 3\n",
      "index=956标签值= 1 预测值= 3\n",
      "index=965标签值= 6 预测值= 3\n",
      "index=969标签值= 4 预测值= 9\n",
      "index=1014标签值= 6 预测值= 5\n",
      "index=1032标签值= 5 预测值= 3\n",
      "index=1039标签值= 7 预测值= 3\n",
      "index=1044标签值= 6 预测值= 3\n",
      "index=1112标签值= 4 预测值= 6\n",
      "index=1114标签值= 3 预测值= 8\n",
      "index=1156标签值= 7 预测值= 3\n",
      "index=1178标签值= 4 预测值= 3\n",
      "index=1181标签值= 6 预测值= 1\n",
      "index=1182标签值= 6 预测值= 8\n",
      "index=1226标签值= 7 预测值= 2\n",
      "index=1232标签值= 9 预测值= 0\n",
      "index=1241标签值= 7 预测值= 3\n",
      "index=1242标签值= 4 预测值= 9\n",
      "index=1247标签值= 9 预测值= 3\n",
      "index=1260标签值= 7 预测值= 3\n",
      "index=1282标签值= 9 预测值= 8\n",
      "index=1290标签值= 3 预测值= 5\n",
      "index=1299标签值= 5 预测值= 7\n",
      "index=1319标签值= 8 预测值= 3\n",
      "index=1326标签值= 7 预测值= 3\n",
      "index=1328标签值= 7 预测值= 9\n",
      "index=1393标签值= 5 预测值= 3\n",
      "index=1395标签值= 2 预测值= 3\n",
      "index=1414标签值= 9 预测值= 3\n",
      "index=1425标签值= 8 预测值= 3\n",
      "index=1444标签值= 6 预测值= 2\n",
      "index=1466标签值= 5 预测值= 3\n",
      "index=1494标签值= 7 预测值= 0\n",
      "index=1500标签值= 7 预测值= 3\n",
      "index=1520标签值= 7 预测值= 3\n",
      "index=1530标签值= 8 预测值= 7\n",
      "index=1549标签值= 4 预测值= 6\n",
      "index=1551标签值= 2 预测值= 3\n",
      "index=1553标签值= 9 预测值= 3\n",
      "index=1554标签值= 9 预测值= 3\n",
      "index=1569标签值= 6 预测值= 3\n",
      "index=1621标签值= 0 预测值= 6\n",
      "index=1641标签值= 5 预测值= 3\n",
      "index=1678标签值= 2 预测值= 3\n",
      "index=1681标签值= 3 预测值= 7\n",
      "index=1751标签值= 4 预测值= 3\n",
      "index=1754标签值= 7 预测值= 3\n",
      "index=1790标签值= 2 预测值= 3\n",
      "index=1800标签值= 6 预测值= 3\n",
      "index=1871标签值= 2 预测值= 3\n",
      "index=1883标签值= 7 预测值= 9\n",
      "index=1901标签值= 9 预测值= 4\n",
      "index=1903标签值= 7 预测值= 3\n",
      "index=1941标签值= 7 预测值= 3\n",
      "index=1987标签值= 0 预测值= 9\n",
      "index=2016标签值= 7 预测值= 3\n",
      "index=2018标签值= 1 预测值= 3\n",
      "index=2028标签值= 7 预测值= 3\n",
      "index=2035标签值= 5 预测值= 3\n",
      "index=2053标签值= 4 预测值= 9\n",
      "index=2063标签值= 7 预测值= 3\n",
      "index=2093标签值= 8 预测值= 1\n",
      "index=2098标签值= 2 预测值= 0\n",
      "index=2118标签值= 6 预测值= 3\n",
      "index=2130标签值= 4 预测值= 9\n",
      "index=2135标签值= 6 预测值= 1\n",
      "index=2161标签值= 9 预测值= 3\n",
      "index=2162标签值= 5 预测值= 8\n",
      "index=2182标签值= 1 预测值= 3\n",
      "index=2215标签值= 6 预测值= 5\n",
      "index=2224标签值= 5 预测值= 3\n",
      "index=2272标签值= 8 预测值= 0\n",
      "index=2291标签值= 5 预测值= 3\n",
      "index=2293标签值= 9 预测值= 3\n",
      "index=2298标签值= 8 预测值= 3\n",
      "index=2369标签值= 5 预测值= 3\n",
      "index=2381标签值= 8 预测值= 3\n",
      "index=2387标签值= 9 预测值= 1\n",
      "index=2393标签值= 8 预测值= 3\n",
      "index=2422标签值= 6 预测值= 2\n",
      "index=2433标签值= 2 预测值= 1\n",
      "index=2454标签值= 6 预测值= 8\n",
      "index=2462标签值= 2 预测值= 0\n",
      "index=2488标签值= 2 预测值= 4\n",
      "index=2517标签值= 2 预测值= 3\n",
      "index=2597标签值= 5 预测值= 3\n",
      "index=2607标签值= 7 预测值= 3\n",
      "index=2648标签值= 9 预测值= 5\n",
      "index=2654标签值= 6 预测值= 1\n",
      "index=2721标签值= 6 预测值= 3\n",
      "index=2730标签值= 7 预测值= 4\n",
      "index=2751标签值= 6 预测值= 3\n",
      "index=2770标签值= 3 预测值= 5\n",
      "index=2810标签值= 5 预测值= 3\n",
      "index=2863标签值= 9 预测值= 4\n",
      "index=2877标签值= 4 预测值= 7\n",
      "index=2896标签值= 8 预测值= 0\n",
      "index=2915标签值= 7 预测值= 3\n",
      "index=2927标签值= 3 预测值= 2\n",
      "index=2939标签值= 9 预测值= 5\n",
      "index=2970标签值= 5 预测值= 3\n",
      "index=2979标签值= 9 预测值= 3\n",
      "index=2995标签值= 6 预测值= 0\n",
      "index=3062标签值= 8 预测值= 3\n",
      "index=3073标签值= 1 预测值= 2\n",
      "index=3117标签值= 5 预测值= 9\n",
      "index=3130标签值= 6 预测值= 3\n",
      "index=3207标签值= 2 预测值= 1\n",
      "index=3225标签值= 7 预测值= 3\n",
      "index=3239标签值= 2 预测值= 1\n",
      "index=3250标签值= 2 预测值= 6\n",
      "index=3284标签值= 8 预测值= 3\n",
      "index=3289标签值= 8 预测值= 9\n",
      "index=3318标签值= 2 预测值= 3\n",
      "index=3333标签值= 7 预测值= 3\n",
      "index=3422标签值= 6 预测值= 0\n",
      "index=3475标签值= 3 预测值= 7\n",
      "index=3490标签值= 4 预测值= 9\n",
      "index=3503标签值= 9 预测值= 1\n",
      "index=3520标签值= 6 预测值= 4\n",
      "index=3558标签值= 5 预测值= 0\n",
      "index=3559标签值= 8 预测值= 3\n",
      "index=3575标签值= 7 预测值= 3\n",
      "index=3580标签值= 7 预测值= 1\n",
      "index=3597标签值= 9 预测值= 3\n",
      "index=3604标签值= 7 预测值= 3\n",
      "index=3662标签值= 8 预测值= 3\n",
      "index=3674标签值= 8 预测值= 3\n",
      "index=3702标签值= 5 预测值= 3\n",
      "index=3751标签值= 7 预测值= 2\n",
      "index=3757标签值= 8 预测值= 3\n",
      "index=3767标签值= 7 预测值= 3\n",
      "index=3776标签值= 5 预测值= 8\n",
      "index=3780标签值= 4 预测值= 6\n",
      "index=3796标签值= 2 预测值= 3\n",
      "index=3808标签值= 7 预测值= 3\n",
      "index=3818标签值= 0 预测值= 4\n",
      "index=3838标签值= 7 预测值= 3\n",
      "index=3853标签值= 6 预测值= 0\n",
      "index=3871标签值= 8 预测值= 3\n",
      "index=3902标签值= 5 预测值= 3\n",
      "index=3906标签值= 1 预测值= 3\n",
      "index=3941标签值= 4 预测值= 6\n",
      "index=3976标签值= 7 预测值= 3\n",
      "index=3986标签值= 2 预测值= 3\n",
      "index=4000标签值= 9 预测值= 8\n",
      "index=4063标签值= 6 预测值= 5\n",
      "index=4065标签值= 0 预测值= 3\n",
      "index=4075标签值= 8 预测值= 3\n",
      "index=4078标签值= 9 预测值= 3\n",
      "index=4093标签值= 9 预测值= 3\n",
      "index=4139标签值= 6 预测值= 4\n",
      "index=4140标签值= 8 预测值= 2\n",
      "index=4149标签值= 2 预测值= 3\n",
      "index=4154标签值= 9 预测值= 3\n",
      "index=4176标签值= 2 预测值= 3\n",
      "index=4199标签值= 7 预测值= 3\n",
      "index=4205标签值= 2 预测值= 3\n",
      "index=4224标签值= 9 预测值= 7\n",
      "index=4248标签值= 2 预测值= 8\n",
      "index=4259标签值= 9 预测值= 3\n",
      "index=4285标签值= 6 预测值= 3\n",
      "index=4289标签值= 2 预测值= 3\n",
      "index=4297标签值= 7 预测值= 3\n",
      "index=4300标签值= 5 预测值= 3\n",
      "index=4315标签值= 5 预测值= 3\n",
      "index=4359标签值= 5 预测值= 3\n",
      "index=4369标签值= 9 预测值= 4\n",
      "index=4374标签值= 5 预测值= 3\n",
      "index=4400标签值= 7 预测值= 3\n",
      "index=4433标签值= 7 预测值= 3\n",
      "index=4497标签值= 8 预测值= 3\n",
      "index=4498标签值= 7 预测值= 3\n",
      "index=4536标签值= 6 预测值= 5\n",
      "index=4571标签值= 6 预测值= 3\n",
      "index=4578标签值= 7 预测值= 3\n",
      "index=4601标签值= 8 预测值= 4\n",
      "index=4619标签值= 6 预测值= 3\n",
      "index=4639标签值= 8 预测值= 9\n",
      "index=4713标签值= 2 预测值= 3\n",
      "index=4731标签值= 8 预测值= 3\n",
      "index=4761标签值= 9 预测值= 3\n",
      "index=4807标签值= 8 预测值= 3\n",
      "index=4808标签值= 3 预测值= 5\n",
      "index=4814标签值= 6 预测值= 8\n",
      "index=4823标签值= 9 预测值= 4\n",
      "index=4838标签值= 6 预测值= 5\n",
      "index=4860标签值= 4 预测值= 9\n",
      "index=4874标签值= 9 预测值= 5\n",
      "index=4880标签值= 0 预测值= 3\n",
      "index=4886标签值= 7 预测值= 3\n",
      "index=4890标签值= 8 预测值= 3\n",
      "index=4939标签值= 2 预测值= 3\n",
      "index=4966标签值= 7 预测值= 3\n",
      "index=4978标签值= 8 预测值= 3\n",
      "index=4997标签值= 2 预测值= 3\n",
      "index=5086标签值= 2 预测值= 3\n",
      "index=5201标签值= 4 预测值= 9\n",
      "index=5331标签值= 1 预测值= 6\n",
      "index=5457标签值= 1 预测值= 8\n",
      "index=5634标签值= 2 预测值= 3\n",
      "index=5642标签值= 1 预测值= 3\n",
      "index=5676标签值= 4 预测值= 3\n",
      "index=5678标签值= 8 预测值= 6\n",
      "index=5749标签值= 8 预测值= 5\n",
      "index=5841标签值= 3 预测值= 5\n",
      "index=5877标签值= 6 预测值= 0\n",
      "index=5887标签值= 7 预测值= 3\n",
      "index=5888标签值= 4 预测值= 3\n",
      "index=5937标签值= 5 预测值= 3\n",
      "index=5955标签值= 3 预测值= 8\n",
      "index=5985标签值= 5 预测值= 3\n",
      "index=5997标签值= 5 预测值= 3\n",
      "index=6035标签值= 2 预测值= 3\n",
      "index=6053标签值= 5 预测值= 9\n",
      "index=6101标签值= 1 预测值= 3\n",
      "index=6173标签值= 9 预测值= 3\n",
      "index=6505标签值= 9 预测值= 3\n",
      "index=6555标签值= 8 预测值= 9\n",
      "index=6568标签值= 9 预测值= 3\n",
      "index=6577标签值= 7 预测值= 3\n",
      "index=6597标签值= 0 预测值= 7\n",
      "index=6608标签值= 9 预测值= 5\n",
      "index=6625标签值= 8 预测值= 4\n",
      "index=6632标签值= 9 预测值= 5\n",
      "index=6651标签值= 0 预测值= 3\n",
      "index=6735标签值= 8 预测值= 5\n",
      "index=6755标签值= 8 预测值= 9\n",
      "index=6783标签值= 1 预测值= 6\n",
      "index=6847标签值= 6 预测值= 4\n",
      "index=6945标签值= 8 预测值= 9\n",
      "index=7081标签值= 9 预测值= 4\n",
      "index=7208标签值= 8 预测值= 3\n",
      "index=7216标签值= 0 预测值= 3\n",
      "index=7233标签值= 3 预测值= 5\n",
      "index=7338标签值= 4 预测值= 3\n",
      "index=7434标签值= 4 预测值= 3\n",
      "index=7492标签值= 2 预测值= 7\n",
      "index=7539标签值= 2 预测值= 1\n",
      "index=7574标签值= 4 预测值= 1\n",
      "index=7729标签值= 2 预测值= 3\n",
      "index=7732标签值= 5 预测值= 3\n",
      "index=7783标签值= 1 预测值= 3\n",
      "index=7797标签值= 5 预测值= 3\n",
      "index=7812标签值= 1 预测值= 3\n",
      "index=7842标签值= 5 预测值= 0\n",
      "index=7850标签值= 5 预测值= 0\n",
      "index=7897标签值= 6 预测值= 3\n",
      "index=7921标签值= 8 预测值= 0\n",
      "index=7971标签值= 8 预测值= 9\n",
      "index=8059标签值= 2 预测值= 3\n",
      "index=8094标签值= 2 预测值= 8\n",
      "index=8095标签值= 4 预测值= 3\n",
      "index=8277标签值= 3 预测值= 9\n",
      "index=8325标签值= 0 预测值= 3\n",
      "index=8408标签值= 8 预测值= 5\n",
      "index=8453标签值= 5 预测值= 3\n",
      "index=8504标签值= 9 预测值= 5\n",
      "index=8519标签值= 7 预测值= 3\n",
      "index=8520标签值= 4 预测值= 9\n",
      "index=8522标签值= 8 预测值= 3\n",
      "index=8527标签值= 4 预测值= 9\n",
      "index=9009标签值= 7 预测值= 3\n",
      "index=9015标签值= 7 预测值= 2\n",
      "index=9019标签值= 7 预测值= 2\n",
      "index=9024标签值= 7 预测值= 2\n",
      "index=9071标签值= 1 预测值= 0\n",
      "index=9252标签值= 9 预测值= 5\n",
      "index=9253标签值= 4 预测值= 3\n",
      "index=9587标签值= 9 预测值= 4\n",
      "index=9634标签值= 0 预测值= 1\n",
      "index=9664标签值= 2 预测值= 3\n",
      "index=9679标签值= 6 预测值= 3\n",
      "index=9692标签值= 9 预测值= 7\n",
      "index=9698标签值= 6 预测值= 3\n",
      "index=9716标签值= 2 预测值= 3\n",
      "index=9719标签值= 5 预测值= 0\n",
      "index=9726标签值= 2 预测值= 3\n",
      "index=9729标签值= 5 预测值= 6\n",
      "index=9740标签值= 9 预测值= 3\n",
      "index=9745标签值= 4 预测值= 3\n",
      "index=9749标签值= 5 预测值= 3\n",
      "index=9768标签值= 2 预测值= 0\n",
      "index=9770标签值= 5 预测值= 0\n",
      "index=9779标签值= 2 预测值= 0\n",
      "index=9783标签值= 4 预测值= 3\n",
      "index=9792标签值= 4 预测值= 3\n",
      "index=9793标签值= 6 预测值= 5\n",
      "index=9811标签值= 2 预测值= 3\n",
      "index=9829标签值= 9 预测值= 5\n",
      "index=9839标签值= 2 预测值= 3\n",
      "index=9858标签值= 6 预测值= 8\n",
      "index=9888标签值= 6 预测值= 3\n",
      "index=9890标签值= 9 预测值= 5\n",
      "index=9944标签值= 3 预测值= 8\n",
      "index=9982标签值= 5 预测值= 3\n",
      "总计：324\n"
     ]
    }
   ],
   "source": [
    "print_predict_errs(labels=mnist.test.labels,\n",
    "                  prediction=prediction_result)"
   ]
  },
  {
   "cell_type": "code",
   "execution_count": null,
   "metadata": {},
   "outputs": [],
   "source": []
  }
 ],
 "metadata": {
  "kernelspec": {
   "display_name": "Python [conda env:tensorflow1] *",
   "language": "python",
   "name": "conda-env-tensorflow1-py"
  },
  "language_info": {
   "codemirror_mode": {
    "name": "ipython",
    "version": 3
   },
   "file_extension": ".py",
   "mimetype": "text/x-python",
   "name": "python",
   "nbconvert_exporter": "python",
   "pygments_lexer": "ipython3",
   "version": "3.7.4"
  }
 },
 "nbformat": 4,
 "nbformat_minor": 2
}

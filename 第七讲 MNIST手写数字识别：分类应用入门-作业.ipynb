{
 "cells": [
  {
   "cell_type": "code",
   "execution_count": 2,
   "metadata": {},
   "outputs": [
    {
     "name": "stdout",
     "output_type": "stream",
     "text": [
      "Extracting MNIST_data/train-images-idx3-ubyte.gz\n",
      "Extracting MNIST_data/train-labels-idx1-ubyte.gz\n",
      "Extracting MNIST_data/t10k-images-idx3-ubyte.gz\n",
      "Extracting MNIST_data/t10k-labels-idx1-ubyte.gz\n"
     ]
    }
   ],
   "source": [
    "# TensorFlow提供了数据集读取方法\n",
    "\n",
    "import tensorflow as tf\n",
    "import tensorflow.examples.tutorials.mnist.input_data as input_data\n",
    "\n",
    "mnist = input_data.read_data_sets('MNIST_data/', one_hot=True)"
   ]
  },
  {
   "cell_type": "code",
   "execution_count": 3,
   "metadata": {},
   "outputs": [
    {
     "name": "stdout",
     "output_type": "stream",
     "text": [
      "训练集数量： 55000 验证集数量： 5000 测试集数量： 10000\n"
     ]
    }
   ],
   "source": [
    "print('训练集数量：',mnist.train.num_examples,\n",
    "      '验证集数量：',mnist.validation.num_examples,\n",
    "      '测试集数量：',mnist.test.num_examples)"
   ]
  },
  {
   "cell_type": "code",
   "execution_count": 4,
   "metadata": {},
   "outputs": [
    {
     "name": "stdout",
     "output_type": "stream",
     "text": [
      "train images shape: (55000, 784) labels shape: (55000, 10)\n"
     ]
    }
   ],
   "source": [
    "# 28*28=784, 10分类one hot编码\n",
    "print('train images shape:', mnist.train.images.shape,\n",
    "      'labels shape:', mnist.train.labels.shape)"
   ]
  },
  {
   "cell_type": "markdown",
   "metadata": {},
   "source": [
    "## 显示图像"
   ]
  },
  {
   "cell_type": "code",
   "execution_count": 10,
   "metadata": {},
   "outputs": [],
   "source": [
    "import matplotlib.pyplot as plt\n",
    "\n",
    "def plot_image(image):\n",
    "    plt.imshow(image.reshape(28, 28), cmap='binary')\n",
    "    plt.show()"
   ]
  },
  {
   "cell_type": "code",
   "execution_count": 11,
   "metadata": {},
   "outputs": [
    {
     "data": {
      "image/png": "[encoded data removed]",
      "text/plain": [
       "<Figure size 432x288 with 1 Axes>"
      ]
     },
     "metadata": {
      "needs_background": "light"
     },
     "output_type": "display_data"
    }
   ],
   "source": [
    "plot_image(mnist.train.images[9])"
   ]
  },
  {
   "cell_type": "markdown",
   "metadata": {},
   "source": [
    "## 构建模型"
   ]
  },
  {
   "cell_type": "code",
   "execution_count": 12,
   "metadata": {},
   "outputs": [],
   "source": [
    "## 定义带输入数据的占位符\n",
    "x = tf.placeholder(tf.float32, [None, 784], name='X')\n",
    "\n",
    "y = tf.placeholder(tf.float32, [None, 10], name='Y')"
   ]
  },
  {
   "cell_type": "code",
   "execution_count": 13,
   "metadata": {},
   "outputs": [],
   "source": [
    "# 定义模型变量\n",
    "# 以正态分布的随机树初始化权重，以0初始化偏置\n",
    "W = tf.Variable(tf.random_normal([784, 10]), name='W')\n",
    "b = tf.Variable(tf.zeros([10]), name='b')"
   ]
  },
  {
   "cell_type": "markdown",
   "metadata": {},
   "source": [
    "### 定义前向计算"
   ]
  },
  {
   "cell_type": "code",
   "execution_count": 14,
   "metadata": {},
   "outputs": [],
   "source": [
    "# 单个神经元构建神经网络\n",
    "forward = tf.matmul(x, W) + b"
   ]
  },
  {
   "cell_type": "code",
   "execution_count": 15,
   "metadata": {},
   "outputs": [],
   "source": [
    "pred = tf.nn.softmax(forward) # softmax分类"
   ]
  },
  {
   "cell_type": "markdown",
   "metadata": {},
   "source": [
    "## 训练模型"
   ]
  },
  {
   "cell_type": "code",
   "execution_count": 48,
   "metadata": {},
   "outputs": [],
   "source": [
    "# 设置训练参数\n",
    "train_epochs = 150 # 训练轮数\n",
    "batch_size =100 # 单次训练样本数\n",
    "total_batch = int(mnist.train.num_examples/batch_size) # 一轮训练有多少批次\n",
    "display_step = 5 # 显示粒度\n",
    "learning_rate = 0.04 # 学习率"
   ]
  },
  {
   "cell_type": "code",
   "execution_count": 49,
   "metadata": {},
   "outputs": [],
   "source": [
    "## 定义损失函数\n",
    "loss_function = tf.reduce_mean(-tf.reduce_sum(y*tf.log(pred),\n",
    "                                             reduction_indices=1))"
   ]
  },
  {
   "cell_type": "code",
   "execution_count": 50,
   "metadata": {},
   "outputs": [],
   "source": [
    "## 选择优化器-梯度下降优化器\n",
    "optimizer = tf.train.GradientDescentOptimizer(learning_rate).minimize(loss_function)"
   ]
  },
  {
   "cell_type": "code",
   "execution_count": 51,
   "metadata": {},
   "outputs": [],
   "source": [
    "## 定义准确率\n",
    "## 检查预测类别tf.argmax(pred, 1)与实际类别tf.argmax(y, 1)的匹配情况\n",
    "correct_prediction = tf.equal(tf.argmax(pred, 1), tf.argmax(y,1))"
   ]
  },
  {
   "cell_type": "code",
   "execution_count": 52,
   "metadata": {},
   "outputs": [],
   "source": [
    "# 准确率，将布尔值转化为浮点数，并计算平均值\n",
    "accuracy = tf.reduce_mean(tf.cast(correct_prediction, tf.float32))"
   ]
  },
  {
   "cell_type": "code",
   "execution_count": 53,
   "metadata": {},
   "outputs": [],
   "source": [
    "sess = tf.Session() # 声明会话\n",
    "init = tf.global_variables_initializer() # 变量初始化\n",
    "sess.run(init)"
   ]
  },
  {
   "cell_type": "markdown",
   "metadata": {},
   "source": [
    "## 模型训练"
   ]
  },
  {
   "cell_type": "code",
   "execution_count": 54,
   "metadata": {},
   "outputs": [
    {
     "name": "stdout",
     "output_type": "stream",
     "text": [
      "Train Epoch: 05 loss= 0.922850370 Accuracy= 0.8132\n",
      "Train Epoch: 10 loss= 0.692761838 Accuracy= 0.8528\n",
      "Train Epoch: 15 loss= 0.595244706 Accuracy= 0.8676\n",
      "Train Epoch: 20 loss= 0.541166306 Accuracy= 0.8792\n",
      "Train Epoch: 25 loss= 0.503134072 Accuracy= 0.8860\n",
      "Train Epoch: 30 loss= 0.476438969 Accuracy= 0.8910\n",
      "Train Epoch: 35 loss= 0.454614460 Accuracy= 0.8952\n",
      "Train Epoch: 40 loss= 0.437152594 Accuracy= 0.8974\n",
      "Train Epoch: 45 loss= 0.422274262 Accuracy= 0.8984\n",
      "Train Epoch: 50 loss= 0.411092788 Accuracy= 0.9008\n",
      "Train Epoch: 55 loss= 0.399969727 Accuracy= 0.9008\n",
      "Train Epoch: 60 loss= 0.390044361 Accuracy= 0.9034\n",
      "Train Epoch: 65 loss= 0.382566392 Accuracy= 0.9042\n",
      "Train Epoch: 70 loss= 0.375315249 Accuracy= 0.9058\n",
      "Train Epoch: 75 loss= 0.369333982 Accuracy= 0.9072\n",
      "Train Epoch: 80 loss= 0.364050746 Accuracy= 0.9046\n",
      "Train Epoch: 85 loss= 0.358366638 Accuracy= 0.9078\n",
      "Train Epoch: 90 loss= 0.353548110 Accuracy= 0.9080\n",
      "Train Epoch: 95 loss= 0.349853843 Accuracy= 0.9086\n",
      "Train Epoch: 100 loss= 0.345467567 Accuracy= 0.9084\n",
      "Train Epoch: 105 loss= 0.342293888 Accuracy= 0.9104\n",
      "Train Epoch: 110 loss= 0.338580102 Accuracy= 0.9104\n",
      "Train Epoch: 115 loss= 0.336912364 Accuracy= 0.9126\n",
      "Train Epoch: 120 loss= 0.332713246 Accuracy= 0.9122\n",
      "Train Epoch: 125 loss= 0.330248058 Accuracy= 0.9134\n",
      "Train Epoch: 130 loss= 0.328289449 Accuracy= 0.9144\n",
      "Train Epoch: 135 loss= 0.325858653 Accuracy= 0.9134\n",
      "Train Epoch: 140 loss= 0.323562473 Accuracy= 0.9138\n",
      "Train Epoch: 145 loss= 0.322427839 Accuracy= 0.9150\n",
      "Train Epoch: 150 loss= 0.321047515 Accuracy= 0.9152\n",
      "Train Finished!\n"
     ]
    }
   ],
   "source": [
    "## 开始训练\n",
    "for epoch in range(train_epochs):\n",
    "    for batch in range(total_batch):\n",
    "        xs, ys = mnist.train.next_batch(batch_size) # 读取批次数据\n",
    "        sess.run(optimizer, feed_dict={x:xs, y:ys}) # 执行批次训练\n",
    "        \n",
    "    # total_batch个批次训练完成后，使用验证数据计算误差与准确率，验证集没有分批\n",
    "    loss, acc = sess.run([loss_function, accuracy], \n",
    "                         feed_dict={x:mnist.validation.images, y:mnist.validation.labels})\n",
    "    \n",
    "    # 打印训练过程中的详细信息\n",
    "    if(epoch+1) % display_step ==0:\n",
    "        print('Train Epoch:', '%02d' % (epoch+1), 'loss=', '{:.9f}'.format(loss),\\\n",
    "             'Accuracy=', '{:.4f}'.format(acc))\n",
    "print('Train Finished!')"
   ]
  },
  {
   "cell_type": "markdown",
   "metadata": {},
   "source": [
    "## 评估模型"
   ]
  },
  {
   "cell_type": "markdown",
   "metadata": {},
   "source": [
    "### 完成训练后，在测试集上评估模型的准确率"
   ]
  },
  {
   "cell_type": "code",
   "execution_count": 55,
   "metadata": {},
   "outputs": [
    {
     "name": "stdout",
     "output_type": "stream",
     "text": [
      "Test Accuracy: 0.9101\n"
     ]
    }
   ],
   "source": [
    "accu_test = sess.run(accuracy, \n",
    "                     feed_dict={x:mnist.test.images, y:mnist.test.labels})\n",
    "\n",
    "print('Test Accuracy:', accu_test)"
   ]
  },
  {
   "cell_type": "markdown",
   "metadata": {},
   "source": [
    "### 完成训练后，在验证集上评估模型的准确率"
   ]
  },
  {
   "cell_type": "code",
   "execution_count": 56,
   "metadata": {},
   "outputs": [
    {
     "name": "stdout",
     "output_type": "stream",
     "text": [
      "Validation Accuracy: 0.9152\n"
     ]
    }
   ],
   "source": [
    "accu_validation = sess.run(accuracy, \n",
    "                     feed_dict={x:mnist.validation.images, y:mnist.validation.labels})\n",
    "\n",
    "print('Validation Accuracy:', accu_validation)"
   ]
  },
  {
   "cell_type": "markdown",
   "metadata": {},
   "source": [
    "### 完成训练后，在训练集上评估模型的准确率"
   ]
  },
  {
   "cell_type": "code",
   "execution_count": 57,
   "metadata": {},
   "outputs": [
    {
     "name": "stdout",
     "output_type": "stream",
     "text": [
      "Train Accuracy: 0.91587275\n"
     ]
    }
   ],
   "source": [
    "accu_train = sess.run(accuracy,\n",
    "                     feed_dict={x:mnist.train.images, y:mnist.train.labels})\n",
    "print('Train Accuracy:', accu_train)"
   ]
  },
  {
   "cell_type": "markdown",
   "metadata": {},
   "source": [
    "## 模型应用"
   ]
  },
  {
   "cell_type": "markdown",
   "metadata": {},
   "source": [
    "### 在建立模型并进行训练后，若认为准确率可以接受，则可以使用此模型进行预测"
   ]
  },
  {
   "cell_type": "code",
   "execution_count": 58,
   "metadata": {},
   "outputs": [],
   "source": [
    "# 由于pred预测结果是one-hot编码格式，所以需要转换为0~9数字\n",
    "prediction_result = sess.run(tf.argmax(pred, 1),\n",
    "                             feed_dict={x:mnist.test.images})"
   ]
  },
  {
   "cell_type": "code",
   "execution_count": 59,
   "metadata": {},
   "outputs": [
    {
     "data": {
      "text/plain": [
       "array([7, 2, 1, 0, 4, 1, 4, 9, 6, 9], dtype=int64)"
      ]
     },
     "execution_count": 59,
     "metadata": {},
     "output_type": "execute_result"
    }
   ],
   "source": [
    "# 查看预测结果中的前10项\n",
    "prediction_result[:10]"
   ]
  },
  {
   "cell_type": "markdown",
   "metadata": {},
   "source": [
    "## 可视化预测结果"
   ]
  },
  {
   "cell_type": "code",
   "execution_count": 60,
   "metadata": {},
   "outputs": [],
   "source": [
    "import matplotlib.pyplot as plt\n",
    "import numpy as np\n",
    "\n",
    "def plot_images_labels_prediction(images,# 图像列表\n",
    "                                  labels, # 标签列表\n",
    "                                  prediction, # 预测值列表\n",
    "                                  index, # 从第index个开始显示\n",
    "                                  num=10):# 缺省一次显示10幅\n",
    "    fig = plt.gcf() # 获取当前图表\n",
    "    fig.set_size_inches(10, 12) # 1英寸等于2.54cn\n",
    "    if num > 25:\n",
    "        num = 25 #最多显示25个子图\n",
    "        \n",
    "    for i in range(0, num):\n",
    "        ax = plt.subplot(5,5,i+1) # 获取当前要处理的子图\n",
    "        ax.imshow(np.reshape(images[index], (28, 28)), # 显示第index个图像\n",
    "                 cmap='binary')\n",
    "        \n",
    "        title = 'label=' + str(np.argmax(labels[index])) # 构建该图上要显示的title\n",
    "        if len(prediction)>0:\n",
    "            title += ',prediction=' + str(prediction[index]) \n",
    "        \n",
    "        ax.set_title(title, fontsize=10) # 显示图上的title信息\n",
    "        ax.set_xticks([])\n",
    "        ax.set_yticks([])\n",
    "        index +=1\n",
    "        \n",
    "    plt.show()"
   ]
  },
  {
   "cell_type": "code",
   "execution_count": 61,
   "metadata": {},
   "outputs": [
    {
     "data": {
      "image/png": "[encoded data removed]",
      "text/plain": [
       "<Figure size 720x864 with 25 Axes>"
      ]
     },
     "metadata": {},
     "output_type": "display_data"
    }
   ],
   "source": [
    "plot_images_labels_prediction(mnist.test.images,\n",
    "                              mnist.test.labels,\n",
    "                              prediction_result, 10, 25)"
   ]
  },
  {
   "cell_type": "code",
   "execution_count": null,
   "metadata": {},
   "outputs": [],
   "source": []
  }
 ],
 "metadata": {
  "kernelspec": {
   "display_name": "Python [conda env:tensorflow1] *",
   "language": "python",
   "name": "conda-env-tensorflow1-py"
  },
  "language_info": {
   "codemirror_mode": {
    "name": "ipython",
    "version": 3
   },
   "file_extension": ".py",
   "mimetype": "text/x-python",
   "name": "python",
   "nbconvert_exporter": "python",
   "pygments_lexer": "ipython3",
   "version": "3.7.4"
  }
 },
 "nbformat": 4,
 "nbformat_minor": 2
}

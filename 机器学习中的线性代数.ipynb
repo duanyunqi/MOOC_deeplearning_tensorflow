{
 "cells": [
  {
   "cell_type": "markdown",
   "metadata": {},
   "source": [
    "## 数学对象"
   ]
  },
  {
   "cell_type": "code",
   "execution_count": 3,
   "metadata": {},
   "outputs": [
    {
     "name": "stdout",
     "output_type": "stream",
     "text": [
      "18\n",
      "18 ()\n"
     ]
    }
   ],
   "source": [
    "import numpy as np\n",
    "\n",
    "# 标量只是一个单一的数字\n",
    "scalar_value = 18\n",
    "\n",
    "print(scalar_value)\n",
    "\n",
    "scalar_np = np.array(scalar_value) # 转换为np中的数组array\n",
    "print(scalar_np, scalar_np.shape)"
   ]
  },
  {
   "cell_type": "code",
   "execution_count": 4,
   "metadata": {},
   "outputs": [
    {
     "name": "stdout",
     "output_type": "stream",
     "text": [
      "[1 2 3] (3,)\n"
     ]
    }
   ],
   "source": [
    "# 向量是一个有序的数字数组\n",
    "vector_value = [1,2,3] # 这是一个列表\n",
    "vector_np  = np.array(vector_value) # 转换为np中的数组array\n",
    "print(vector_np, vector_np.shape)\n",
    "# 一维数组，既不能算行向量，也不能算列向量，真正的行向量、列向量需要二维数组表示"
   ]
  },
  {
   "cell_type": "code",
   "execution_count": 6,
   "metadata": {},
   "outputs": [
    {
     "name": "stdout",
     "output_type": "stream",
     "text": [
      "matrix_list= [[1, 2, 3], [4, 5, 6]] \n",
      " matrix_np=\n",
      " [[1 2 3]\n",
      " [4 5 6]] \n",
      " matrix_np.shape= (2, 3)\n"
     ]
    }
   ],
   "source": [
    "# 矩阵是一个有序的二维数组，有两个索引\n",
    "matrix_list = [[1,2,3],[4,5,6]]\n",
    "matrix_np = np.array(matrix_list)\n",
    "print('matrix_list=', matrix_list, '\\n',\n",
    "      'matrix_np=\\n', matrix_np, '\\n', \n",
    "      'matrix_np.shape=', matrix_np.shape)"
   ]
  },
  {
   "cell_type": "code",
   "execution_count": 7,
   "metadata": {},
   "outputs": [
    {
     "name": "stdout",
     "output_type": "stream",
     "text": [
      "[[1 2 3]] shape= (1, 3)\n"
     ]
    }
   ],
   "source": [
    "# 行向量的矩阵表示\n",
    "vector_row = np.array([[1,2,3]])\n",
    "print(vector_row, 'shape=',vector_row.shape)"
   ]
  },
  {
   "cell_type": "code",
   "execution_count": 8,
   "metadata": {},
   "outputs": [
    {
     "name": "stdout",
     "output_type": "stream",
     "text": [
      "[[4]\n",
      " [5]\n",
      " [6]] shape= (3, 1)\n"
     ]
    }
   ],
   "source": [
    "# 列向量的矩阵表示\n",
    "vector_column = np.array([[4],[5],[6]])\n",
    "print(vector_column, 'shape=', vector_column.shape)"
   ]
  },
  {
   "cell_type": "code",
   "execution_count": 9,
   "metadata": {},
   "outputs": [
    {
     "name": "stdout",
     "output_type": "stream",
     "text": [
      "[[1 2 3]] shape= (1, 3) \n",
      " [[1]\n",
      " [2]\n",
      " [3]] .Tshape= (3, 1)\n"
     ]
    }
   ],
   "source": [
    "# 行列转置\n",
    "vector_row = np.array([[1,2,3]])\n",
    "\n",
    "print(vector_row, 'shape=',vector_row.shape, '\\n', vector_row.T, '.Tshape=', vector_row.T.shape)"
   ]
  },
  {
   "cell_type": "code",
   "execution_count": 10,
   "metadata": {},
   "outputs": [
    {
     "name": "stdout",
     "output_type": "stream",
     "text": [
      "[[1 2 3]\n",
      " [4 5 6]] shape= (2, 3)\n"
     ]
    }
   ],
   "source": [
    "# 矩阵与标量运算\n",
    "matrix_a = np.array([[1,2,3],[4,5,6]])\n",
    "print(matrix_a, 'shape=', matrix_a.shape)"
   ]
  },
  {
   "cell_type": "code",
   "execution_count": 12,
   "metadata": {},
   "outputs": [
    {
     "name": "stdout",
     "output_type": "stream",
     "text": [
      "[[ 2  4  6]\n",
      " [ 8 10 12]] shape= (2, 3)\n"
     ]
    }
   ],
   "source": [
    "# 矩阵*标量\n",
    "matrix_b = matrix_a * 2\n",
    "print(matrix_b, 'shape=', matrix_b.shape)"
   ]
  },
  {
   "cell_type": "code",
   "execution_count": 13,
   "metadata": {},
   "outputs": [
    {
     "name": "stdout",
     "output_type": "stream",
     "text": [
      "[[3 4 5]\n",
      " [6 7 8]] shape= (2, 3)\n"
     ]
    }
   ],
   "source": [
    "# 矩阵 + 标量\n",
    "matrix_c = matrix_a+2\n",
    "print(matrix_c, 'shape=',matrix_c.shape)"
   ]
  },
  {
   "cell_type": "code",
   "execution_count": 14,
   "metadata": {},
   "outputs": [
    {
     "data": {
      "text/plain": [
       "array([[0, 0, 0],\n",
       "       [0, 0, 0]])"
      ]
     },
     "execution_count": 14,
     "metadata": {},
     "output_type": "execute_result"
    }
   ],
   "source": [
    "# 矩阵 + 矩阵\n",
    "matrix_a = np.array([[1,2,3],\n",
    "                     [4,5,6]])\n",
    "matrix_b = np.array([[-1,-2,-3],\n",
    "                     [-4,-5,-6]])\n",
    "\n",
    "matrix_a + matrix_b"
   ]
  },
  {
   "cell_type": "code",
   "execution_count": 15,
   "metadata": {},
   "outputs": [
    {
     "data": {
      "text/plain": [
       "array([[ -1,  -4,  -9],\n",
       "       [-16, -25, -36]])"
      ]
     },
     "execution_count": 15,
     "metadata": {},
     "output_type": "execute_result"
    }
   ],
   "source": [
    "# 矩阵 * 矩阵（点积），对应位置数字相乘，两个矩阵行列数必须相等\n",
    "matrix_a = np.array([[1,2,3],\n",
    "                     [4,5,6]])\n",
    "matrix_b = np.array([[-1,-2,-3],\n",
    "                     [-4,-5,-6]])\n",
    "matrix_a * matrix_b # 和np.multiply等价"
   ]
  },
  {
   "cell_type": "code",
   "execution_count": 16,
   "metadata": {},
   "outputs": [
    {
     "data": {
      "text/plain": [
       "array([[14, 16, 10, 10],\n",
       "       [32, 37, 28, 28]])"
      ]
     },
     "execution_count": 16,
     "metadata": {},
     "output_type": "execute_result"
    }
   ],
   "source": [
    "# 矩阵-矩阵乘法（叉乘）\n",
    "# 第一个矩阵列的数量与第二个矩阵行数相匹配，才能将矩阵相乘\n",
    "# 结果将是一个矩阵，它具有与第一个矩阵相同的行数与第二个矩阵相同的列数\n",
    "matrix_a = np.array([[1,2,3],\n",
    "                     [4,5,6]])# 2行3列\n",
    "matrix_b = np.array([[1,2,3,4],\n",
    "                     [2,1,2,0],\n",
    "                     [3,4,1,2]])# 3行4列\n",
    "\n",
    "np.matmul(matrix_a, matrix_b) # 结果是2行4列"
   ]
  },
  {
   "cell_type": "code",
   "execution_count": null,
   "metadata": {},
   "outputs": [],
   "source": []
  }
 ],
 "metadata": {
  "kernelspec": {
   "display_name": "Python [conda env:tensorflow1] *",
   "language": "python",
   "name": "conda-env-tensorflow1-py"
  },
  "language_info": {
   "codemirror_mode": {
    "name": "ipython",
    "version": 3
   },
   "file_extension": ".py",
   "mimetype": "text/x-python",
   "name": "python",
   "nbconvert_exporter": "python",
   "pygments_lexer": "ipython3",
   "version": "3.7.4"
  }
 },
 "nbformat": 4,
 "nbformat_minor": 2
}

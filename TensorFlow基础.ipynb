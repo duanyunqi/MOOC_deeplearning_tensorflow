{
 "cells": [
  {
   "cell_type": "markdown",
   "metadata": {},
   "source": [
    "## 用TensorFlow说Hello World!"
   ]
  },
  {
   "cell_type": "code",
   "execution_count": 1,
   "metadata": {},
   "outputs": [
    {
     "name": "stderr",
     "output_type": "stream",
     "text": [
      "D:\\SoftWare\\Anaconda3\\envs\\tensorflow1\\lib\\site-packages\\tensorflow\\python\\framework\\dtypes.py:516: FutureWarning: Passing (type, 1) or '1type' as a synonym of type is deprecated; in a future version of numpy, it will be understood as (type, (1,)) / '(1,)type'.\n",
      "  _np_qint8 = np.dtype([(\"qint8\", np.int8, 1)])\n",
      "D:\\SoftWare\\Anaconda3\\envs\\tensorflow1\\lib\\site-packages\\tensorflow\\python\\framework\\dtypes.py:517: FutureWarning: Passing (type, 1) or '1type' as a synonym of type is deprecated; in a future version of numpy, it will be understood as (type, (1,)) / '(1,)type'.\n",
      "  _np_quint8 = np.dtype([(\"quint8\", np.uint8, 1)])\n",
      "D:\\SoftWare\\Anaconda3\\envs\\tensorflow1\\lib\\site-packages\\tensorflow\\python\\framework\\dtypes.py:518: FutureWarning: Passing (type, 1) or '1type' as a synonym of type is deprecated; in a future version of numpy, it will be understood as (type, (1,)) / '(1,)type'.\n",
      "  _np_qint16 = np.dtype([(\"qint16\", np.int16, 1)])\n",
      "D:\\SoftWare\\Anaconda3\\envs\\tensorflow1\\lib\\site-packages\\tensorflow\\python\\framework\\dtypes.py:519: FutureWarning: Passing (type, 1) or '1type' as a synonym of type is deprecated; in a future version of numpy, it will be understood as (type, (1,)) / '(1,)type'.\n",
      "  _np_quint16 = np.dtype([(\"quint16\", np.uint16, 1)])\n",
      "D:\\SoftWare\\Anaconda3\\envs\\tensorflow1\\lib\\site-packages\\tensorflow\\python\\framework\\dtypes.py:520: FutureWarning: Passing (type, 1) or '1type' as a synonym of type is deprecated; in a future version of numpy, it will be understood as (type, (1,)) / '(1,)type'.\n",
      "  _np_qint32 = np.dtype([(\"qint32\", np.int32, 1)])\n",
      "D:\\SoftWare\\Anaconda3\\envs\\tensorflow1\\lib\\site-packages\\tensorflow\\python\\framework\\dtypes.py:525: FutureWarning: Passing (type, 1) or '1type' as a synonym of type is deprecated; in a future version of numpy, it will be understood as (type, (1,)) / '(1,)type'.\n",
      "  np_resource = np.dtype([(\"resource\", np.ubyte, 1)])\n",
      "D:\\SoftWare\\Anaconda3\\envs\\tensorflow1\\lib\\site-packages\\tensorboard\\compat\\tensorflow_stub\\dtypes.py:541: FutureWarning: Passing (type, 1) or '1type' as a synonym of type is deprecated; in a future version of numpy, it will be understood as (type, (1,)) / '(1,)type'.\n",
      "  _np_qint8 = np.dtype([(\"qint8\", np.int8, 1)])\n",
      "D:\\SoftWare\\Anaconda3\\envs\\tensorflow1\\lib\\site-packages\\tensorboard\\compat\\tensorflow_stub\\dtypes.py:542: FutureWarning: Passing (type, 1) or '1type' as a synonym of type is deprecated; in a future version of numpy, it will be understood as (type, (1,)) / '(1,)type'.\n",
      "  _np_quint8 = np.dtype([(\"quint8\", np.uint8, 1)])\n",
      "D:\\SoftWare\\Anaconda3\\envs\\tensorflow1\\lib\\site-packages\\tensorboard\\compat\\tensorflow_stub\\dtypes.py:543: FutureWarning: Passing (type, 1) or '1type' as a synonym of type is deprecated; in a future version of numpy, it will be understood as (type, (1,)) / '(1,)type'.\n",
      "  _np_qint16 = np.dtype([(\"qint16\", np.int16, 1)])\n",
      "D:\\SoftWare\\Anaconda3\\envs\\tensorflow1\\lib\\site-packages\\tensorboard\\compat\\tensorflow_stub\\dtypes.py:544: FutureWarning: Passing (type, 1) or '1type' as a synonym of type is deprecated; in a future version of numpy, it will be understood as (type, (1,)) / '(1,)type'.\n",
      "  _np_quint16 = np.dtype([(\"quint16\", np.uint16, 1)])\n",
      "D:\\SoftWare\\Anaconda3\\envs\\tensorflow1\\lib\\site-packages\\tensorboard\\compat\\tensorflow_stub\\dtypes.py:545: FutureWarning: Passing (type, 1) or '1type' as a synonym of type is deprecated; in a future version of numpy, it will be understood as (type, (1,)) / '(1,)type'.\n",
      "  _np_qint32 = np.dtype([(\"qint32\", np.int32, 1)])\n",
      "D:\\SoftWare\\Anaconda3\\envs\\tensorflow1\\lib\\site-packages\\tensorboard\\compat\\tensorflow_stub\\dtypes.py:550: FutureWarning: Passing (type, 1) or '1type' as a synonym of type is deprecated; in a future version of numpy, it will be understood as (type, (1,)) / '(1,)type'.\n",
      "  np_resource = np.dtype([(\"resource\", np.ubyte, 1)])\n"
     ]
    },
    {
     "name": "stdout",
     "output_type": "stream",
     "text": [
      "b'Hello, World!'\n"
     ]
    }
   ],
   "source": [
    "import tensorflow as tf\n",
    "\n",
    "# 创建一个常量运算，将作为一个节点加入到默认计算图中\n",
    "hello = tf.constant('Hello, World!')\n",
    "\n",
    "# 创建一个TF对话\n",
    "sess = tf.Session()\n",
    "\n",
    "# 运行并获得结果\n",
    "print(sess.run(hello))"
   ]
  },
  {
   "cell_type": "markdown",
   "metadata": {},
   "source": [
    "## 计算图的实例"
   ]
  },
  {
   "cell_type": "code",
   "execution_count": 3,
   "metadata": {},
   "outputs": [],
   "source": [
    "# 一个简单的计算图\n",
    "node1 = tf.constant(3.0, tf.float32, name='node1')\n",
    "node2 = tf.constant(4.0, tf.float32, name='node2')\n",
    "node3 = tf.add(node1, node2)"
   ]
  },
  {
   "cell_type": "code",
   "execution_count": 4,
   "metadata": {},
   "outputs": [
    {
     "name": "stdout",
     "output_type": "stream",
     "text": [
      "Tensor(\"Add:0\", shape=(), dtype=float32)\n"
     ]
    }
   ],
   "source": [
    "print(node3)"
   ]
  },
  {
   "cell_type": "markdown",
   "metadata": {},
   "source": [
    "### 创建流图（或计算图）就是建立计算模型，执行对话才能提供数据并获得结果"
   ]
  },
  {
   "cell_type": "code",
   "execution_count": 6,
   "metadata": {},
   "outputs": [
    {
     "name": "stdout",
     "output_type": "stream",
     "text": [
      "运行sess.run(node1)的结果： 7.0\n"
     ]
    }
   ],
   "source": [
    "# 建立对话并显示运行结果\n",
    "sess = tf.Session()\n",
    "print('运行sess.run(node1)的结果：', sess.run(node3))\n",
    "\n",
    "# 关闭session\n",
    "sess.close()"
   ]
  },
  {
   "cell_type": "markdown",
   "metadata": {},
   "source": [
    "## 张量"
   ]
  },
  {
   "cell_type": "code",
   "execution_count": 8,
   "metadata": {},
   "outputs": [
    {
     "name": "stdout",
     "output_type": "stream",
     "text": [
      "Tensor(\"tens1_1:0\", shape=(2, 3), dtype=int32)\n"
     ]
    }
   ],
   "source": [
    "tens1 = tf.constant([[1,2,3],[4,5,6]], name='tens1')\n",
    "print(tens1)"
   ]
  },
  {
   "cell_type": "code",
   "execution_count": 11,
   "metadata": {},
   "outputs": [
    {
     "name": "stdout",
     "output_type": "stream",
     "text": [
      "()\n",
      "(5,)\n",
      "(2, 3)\n",
      "(1, 5, 1)\n"
     ]
    }
   ],
   "source": [
    "# 张量的属性\n",
    "scalar = tf.constant(100)\n",
    "vector = tf.constant([1,2,3,4,5])\n",
    "matrix = tf.constant([[1,2,3],[4,5,6]])\n",
    "cube_matrix = tf.constant([[[1], [2], [3], [4], [5]]])\n",
    "\n",
    "print(scalar.get_shape())\n",
    "print(vector.get_shape())\n",
    "print(matrix.get_shape())\n",
    "print(cube_matrix.get_shape())"
   ]
  },
  {
   "cell_type": "code",
   "execution_count": 12,
   "metadata": {},
   "outputs": [
    {
     "name": "stdout",
     "output_type": "stream",
     "text": [
      "5\n"
     ]
    }
   ],
   "source": [
    "# 获取张量的元素\n",
    "tens2 = tf.constant([[[1,2],[2,3]],[[3,4],[5,6]]])\n",
    "\n",
    "sess = tf.Session()\n",
    "print(sess.run(tens2)[1,1,0])\n",
    "\n",
    "sess.close()"
   ]
  },
  {
   "cell_type": "markdown",
   "metadata": {},
   "source": [
    "## 计算图中的操作\n"
   ]
  },
  {
   "cell_type": "code",
   "execution_count": 14,
   "metadata": {},
   "outputs": [],
   "source": [
    "# 本例用到了TensorBoard\n",
    "tf.reset_default_graph()# 清除default graph和不断增加的节点\n",
    "\n",
    "# 定义变量a\n",
    "a = tf.Variable(1, name='a')\n",
    "# 定义操作b为a+1\n",
    "b = tf.add(a, 1, name='b')\n",
    "# 定义操作c为b*4\n",
    "c = tf.multiply(b, 4, name='c')\n",
    "# 定义d为c-b\n",
    "d = tf.subtract(c, b, name='d')\n",
    "\n",
    "# logdir为日志路径\n",
    "logdir = 'log'\n",
    "# 生成一个写日志的writer，并将当前的Tensorflow计算图写入日志\n",
    "writer = tf.summary.FileWriter(logdir, tf.get_default_graph())\n",
    "\n",
    "writer.close()"
   ]
  },
  {
   "cell_type": "markdown",
   "metadata": {},
   "source": [
    "## 会话"
   ]
  },
  {
   "cell_type": "code",
   "execution_count": 15,
   "metadata": {},
   "outputs": [
    {
     "name": "stdout",
     "output_type": "stream",
     "text": [
      "7.0\n"
     ]
    }
   ],
   "source": [
    "# 一个简单的计算图\n",
    "node1 = tf.constant(3.0, tf.float32, name='node1')\n",
    "node2 = tf.constant(4.0, tf.float32, name='node2')\n",
    "result = tf.add(node1, node2)\n",
    "\n",
    "# 创建一个会话，并通过python中的上下文管理器来管理这个会话\n",
    "with tf.Session() as sess:\n",
    "    # 使用创建好的会话来计算结果\n",
    "    print(sess.run(result))\n",
    "    \n",
    "# 不需要再调用Session.close()函数关闭会话\n",
    "# 当上下文退出时会话关闭和资源释放也自动完成"
   ]
  },
  {
   "cell_type": "markdown",
   "metadata": {},
   "source": [
    "## 指定默认的会话\n"
   ]
  },
  {
   "cell_type": "code",
   "execution_count": 19,
   "metadata": {},
   "outputs": [
    {
     "name": "stdout",
     "output_type": "stream",
     "text": [
      "7.0\n",
      "7.0\n"
     ]
    }
   ],
   "source": [
    "# 一个简单的计算图\n",
    "node1 = tf.constant(3.0, tf.float32, name='node1')\n",
    "node2 = tf.constant(4.0, tf.float32, name='node2')\n",
    "result = tf.add(node1, node2)\n",
    "\n",
    "sess = tf.Session()\n",
    "\n",
    "with sess.as_default():\n",
    "    print(result.eval())\n",
    "    \n",
    "# 或者\n",
    "print(result.eval(session=sess))"
   ]
  },
  {
   "cell_type": "markdown",
   "metadata": {},
   "source": [
    "## 交互式环境下设置默认会话\n"
   ]
  },
  {
   "cell_type": "markdown",
   "metadata": {},
   "source": [
    "在交互式环境下，python脚本或者jupyter编辑器下，通过设置默认会话来获取张量的取值更加方便  \n",
    "tf.InteractiveSession使用这个函数会自动将生成的会话注册为默认会话"
   ]
  },
  {
   "cell_type": "code",
   "execution_count": 21,
   "metadata": {},
   "outputs": [
    {
     "name": "stdout",
     "output_type": "stream",
     "text": [
      "7.0\n"
     ]
    }
   ],
   "source": [
    "# 一个简单的计算图\n",
    "node1 = tf.constant(3.0, tf.float32, name='node1')\n",
    "node2 = tf.constant(4.0, tf.float32, name='node2')\n",
    "result = tf.add(node1, node2)\n",
    "\n",
    "sess = tf.InteractiveSession()\n",
    "\n",
    "print(result.eval())\n",
    "\n",
    "sess.close()"
   ]
  },
  {
   "cell_type": "markdown",
   "metadata": {},
   "source": [
    "## 常量"
   ]
  },
  {
   "cell_type": "code",
   "execution_count": 2,
   "metadata": {},
   "outputs": [
    {
     "name": "stdout",
     "output_type": "stream",
     "text": [
      "3.5\n"
     ]
    }
   ],
   "source": [
    "a = tf.constant(1.0, name='a')\n",
    "b = tf.constant(2.5, name='b')\n",
    "c = tf.add(a, b, name='c')\n",
    "\n",
    "sess = tf.Session()\n",
    "c_value = sess.run(c)\n",
    "print(c_value)\n",
    "sess.close()"
   ]
  },
  {
   "cell_type": "markdown",
   "metadata": {},
   "source": [
    "## 变量\n"
   ]
  },
  {
   "cell_type": "code",
   "execution_count": 4,
   "metadata": {},
   "outputs": [
    {
     "name": "stdout",
     "output_type": "stream",
     "text": [
      "7.0\n"
     ]
    }
   ],
   "source": [
    "node1 = tf.Variable(3.0, tf.float32, name='node1')\n",
    "node2 = tf.Variable(4.0, tf.float32, name='node2')\n",
    "result = tf.add(node1, node2, name='add')\n",
    "\n",
    "sess = tf.Session()\n",
    "\n",
    "# 变量初始化\n",
    "init = tf.global_variables_initializer()\n",
    "sess.run(init)\n",
    "\n",
    "print(sess.run(result))"
   ]
  },
  {
   "cell_type": "markdown",
   "metadata": {},
   "source": [
    "## 变量赋值案例"
   ]
  },
  {
   "cell_type": "code",
   "execution_count": 2,
   "metadata": {},
   "outputs": [
    {
     "name": "stdout",
     "output_type": "stream",
     "text": [
      "1\n",
      "2\n",
      "3\n",
      "4\n",
      "5\n",
      "6\n",
      "7\n",
      "8\n",
      "9\n",
      "10\n"
     ]
    }
   ],
   "source": [
    "# 通过变量赋值输出1，2，3，……，10\n",
    "\n",
    "value = tf.Variable(0, name='value')\n",
    "one = tf.constant(1)\n",
    "new_value = tf.add(value, one)\n",
    "updata_value = tf.assign(value, new_value)\n",
    "\n",
    "init = tf.global_variables_initializer()\n",
    "\n",
    "with tf.Session() as sess:\n",
    "    sess.run(init)\n",
    "    for _ in range(10):\n",
    "        sess.run(updata_value)\n",
    "        print(sess.run(value))"
   ]
  },
  {
   "cell_type": "markdown",
   "metadata": {},
   "source": [
    "## 占位符"
   ]
  },
  {
   "cell_type": "code",
   "execution_count": 3,
   "metadata": {},
   "outputs": [],
   "source": [
    "# 生成一个2x3的二维数组，矩阵中每个元素的类型都是tf.float32,内部对应的符号名称是tx\n",
    "x = tf.placeholder(tf.float32, [2,3], name='tx')"
   ]
  },
  {
   "cell_type": "markdown",
   "metadata": {},
   "source": [
    "## Feed提交数据"
   ]
  },
  {
   "cell_type": "code",
   "execution_count": 4,
   "metadata": {},
   "outputs": [
    {
     "name": "stdout",
     "output_type": "stream",
     "text": [
      "28.0\n"
     ]
    }
   ],
   "source": [
    "a = tf.placeholder(tf.float32, name='a')\n",
    "b = tf.placeholder(tf.float32, name='b')\n",
    "c = tf.multiply(a, b, name='c')\n",
    "\n",
    "init = tf.global_variables_initializer()\n",
    "\n",
    "with tf.Session() as sess:\n",
    "    sess.run(init)\n",
    "    # 通过feed_dict的参数传值，按字典格式\n",
    "    result = sess.run(c, feed_dict={a:8.0, b:3.5})\n",
    "    \n",
    "    print(result)"
   ]
  },
  {
   "cell_type": "code",
   "execution_count": 6,
   "metadata": {},
   "outputs": [
    {
     "name": "stdout",
     "output_type": "stream",
     "text": [
      "[array([28.,  4., 14.], dtype=float32), array([ 4.5,  0. , -0.5], dtype=float32)]\n",
      "[28.  4. 14.]\n",
      "value of c = [28.  4. 14.] value of d = [ 4.5  0.  -0.5]\n"
     ]
    }
   ],
   "source": [
    "# 多个操作可以通过一次Feed完成执行\n",
    "a = tf.placeholder(tf.float32, name='a')\n",
    "b = tf.placeholder(tf.float32, name='b')\n",
    "c = tf.multiply(a, b, name='c')\n",
    "d = tf.subtract(a, b, name='d')\n",
    "\n",
    "init = tf.global_variables_initializer()\n",
    "\n",
    "with tf.Session() as sess:\n",
    "    sess.run(init)\n",
    "    # 通过feed_dict的参数传值，按字典格式\n",
    "    result = sess.run([c, d], feed_dict={a:[8.0, 2.0, 3.5], b:[3.5, 2.0, 4.0]})\n",
    "    \n",
    "    print(result)\n",
    "    # 取结果中的第一个\n",
    "    print(result[0])\n",
    "    \n",
    "    # 返回的两个值分别赋给两个变量\n",
    "    rc, rd = sess.run([c, d], feed_dict={a:[8.0, 2.0, 3.5], b:[3.5, 2.0, 4.0]})\n",
    "    print('value of c =', rc, 'value of d =', rd)"
   ]
  },
  {
   "cell_type": "markdown",
   "metadata": {},
   "source": [
    "## TensorBoard可视化"
   ]
  },
  {
   "cell_type": "code",
   "execution_count": 8,
   "metadata": {},
   "outputs": [],
   "source": [
    "# 清除default graph和不断增加的节点\n",
    "tf.reset_default_graph()\n",
    "\n",
    "# logdir日志路径\n",
    "logdir = 'log'\n",
    "\n",
    "# 定义一个简单的计算图，实现向量加法操作\n",
    "input1 = tf.constant([1.0, 2.0, 3.0], name='input1')\n",
    "input2 = tf.Variable(tf.random_uniform([3]), name='input2')\n",
    "output = tf.add_n([input1, input2], name='add')\n",
    "\n",
    "# 生成一个写日志的writer，并将当前的TensorFlow计算图写入日志\n",
    "writer = tf.summary.FileWriter(logdir, tf.get_default_graph())\n",
    "writer.close()"
   ]
  },
  {
   "cell_type": "code",
   "execution_count": null,
   "metadata": {},
   "outputs": [],
   "source": []
  }
 ],
 "metadata": {
  "kernelspec": {
   "display_name": "Python [conda env:tensorflow1] *",
   "language": "python",
   "name": "conda-env-tensorflow1-py"
  },
  "language_info": {
   "codemirror_mode": {
    "name": "ipython",
    "version": 3
   },
   "file_extension": ".py",
   "mimetype": "text/x-python",
   "name": "python",
   "nbconvert_exporter": "python",
   "pygments_lexer": "ipython3",
   "version": "3.7.4"
  }
 },
 "nbformat": 4,
 "nbformat_minor": 2
}

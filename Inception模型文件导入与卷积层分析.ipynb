{
 "cells": [
  {
   "cell_type": "markdown",
   "metadata": {},
   "source": [
    "## 图的保存与加载"
   ]
  },
  {
   "cell_type": "code",
   "execution_count": 1,
   "metadata": {},
   "outputs": [
    {
     "name": "stderr",
     "output_type": "stream",
     "text": [
      "D:\\SoftWare\\Anaconda3\\envs\\tensorflow1\\lib\\site-packages\\tensorflow\\python\\framework\\dtypes.py:516: FutureWarning: Passing (type, 1) or '1type' as a synonym of type is deprecated; in a future version of numpy, it will be understood as (type, (1,)) / '(1,)type'.\n",
      "  _np_qint8 = np.dtype([(\"qint8\", np.int8, 1)])\n",
      "D:\\SoftWare\\Anaconda3\\envs\\tensorflow1\\lib\\site-packages\\tensorflow\\python\\framework\\dtypes.py:517: FutureWarning: Passing (type, 1) or '1type' as a synonym of type is deprecated; in a future version of numpy, it will be understood as (type, (1,)) / '(1,)type'.\n",
      "  _np_quint8 = np.dtype([(\"quint8\", np.uint8, 1)])\n",
      "D:\\SoftWare\\Anaconda3\\envs\\tensorflow1\\lib\\site-packages\\tensorflow\\python\\framework\\dtypes.py:518: FutureWarning: Passing (type, 1) or '1type' as a synonym of type is deprecated; in a future version of numpy, it will be understood as (type, (1,)) / '(1,)type'.\n",
      "  _np_qint16 = np.dtype([(\"qint16\", np.int16, 1)])\n",
      "D:\\SoftWare\\Anaconda3\\envs\\tensorflow1\\lib\\site-packages\\tensorflow\\python\\framework\\dtypes.py:519: FutureWarning: Passing (type, 1) or '1type' as a synonym of type is deprecated; in a future version of numpy, it will be understood as (type, (1,)) / '(1,)type'.\n",
      "  _np_quint16 = np.dtype([(\"quint16\", np.uint16, 1)])\n",
      "D:\\SoftWare\\Anaconda3\\envs\\tensorflow1\\lib\\site-packages\\tensorflow\\python\\framework\\dtypes.py:520: FutureWarning: Passing (type, 1) or '1type' as a synonym of type is deprecated; in a future version of numpy, it will be understood as (type, (1,)) / '(1,)type'.\n",
      "  _np_qint32 = np.dtype([(\"qint32\", np.int32, 1)])\n",
      "D:\\SoftWare\\Anaconda3\\envs\\tensorflow1\\lib\\site-packages\\tensorflow\\python\\framework\\dtypes.py:525: FutureWarning: Passing (type, 1) or '1type' as a synonym of type is deprecated; in a future version of numpy, it will be understood as (type, (1,)) / '(1,)type'.\n",
      "  np_resource = np.dtype([(\"resource\", np.ubyte, 1)])\n",
      "D:\\SoftWare\\Anaconda3\\envs\\tensorflow1\\lib\\site-packages\\tensorboard\\compat\\tensorflow_stub\\dtypes.py:541: FutureWarning: Passing (type, 1) or '1type' as a synonym of type is deprecated; in a future version of numpy, it will be understood as (type, (1,)) / '(1,)type'.\n",
      "  _np_qint8 = np.dtype([(\"qint8\", np.int8, 1)])\n",
      "D:\\SoftWare\\Anaconda3\\envs\\tensorflow1\\lib\\site-packages\\tensorboard\\compat\\tensorflow_stub\\dtypes.py:542: FutureWarning: Passing (type, 1) or '1type' as a synonym of type is deprecated; in a future version of numpy, it will be understood as (type, (1,)) / '(1,)type'.\n",
      "  _np_quint8 = np.dtype([(\"quint8\", np.uint8, 1)])\n",
      "D:\\SoftWare\\Anaconda3\\envs\\tensorflow1\\lib\\site-packages\\tensorboard\\compat\\tensorflow_stub\\dtypes.py:543: FutureWarning: Passing (type, 1) or '1type' as a synonym of type is deprecated; in a future version of numpy, it will be understood as (type, (1,)) / '(1,)type'.\n",
      "  _np_qint16 = np.dtype([(\"qint16\", np.int16, 1)])\n",
      "D:\\SoftWare\\Anaconda3\\envs\\tensorflow1\\lib\\site-packages\\tensorboard\\compat\\tensorflow_stub\\dtypes.py:544: FutureWarning: Passing (type, 1) or '1type' as a synonym of type is deprecated; in a future version of numpy, it will be understood as (type, (1,)) / '(1,)type'.\n",
      "  _np_quint16 = np.dtype([(\"quint16\", np.uint16, 1)])\n",
      "D:\\SoftWare\\Anaconda3\\envs\\tensorflow1\\lib\\site-packages\\tensorboard\\compat\\tensorflow_stub\\dtypes.py:545: FutureWarning: Passing (type, 1) or '1type' as a synonym of type is deprecated; in a future version of numpy, it will be understood as (type, (1,)) / '(1,)type'.\n",
      "  _np_qint32 = np.dtype([(\"qint32\", np.int32, 1)])\n",
      "D:\\SoftWare\\Anaconda3\\envs\\tensorflow1\\lib\\site-packages\\tensorboard\\compat\\tensorflow_stub\\dtypes.py:550: FutureWarning: Passing (type, 1) or '1type' as a synonym of type is deprecated; in a future version of numpy, it will be understood as (type, (1,)) / '(1,)type'.\n",
      "  np_resource = np.dtype([(\"resource\", np.ubyte, 1)])\n"
     ]
    }
   ],
   "source": [
    "import tensorflow as tf"
   ]
  },
  {
   "cell_type": "code",
   "execution_count": 2,
   "metadata": {},
   "outputs": [],
   "source": [
    "# 图的保存\n",
    "v = tf.Variable(1.0, name='my_variable')\n",
    "with tf.Session() as sess:\n",
    "    tf.train.write_graph(sess.graph_def, './tfmodel', 'test_pb.pb', as_text=False)"
   ]
  },
  {
   "cell_type": "code",
   "execution_count": 3,
   "metadata": {},
   "outputs": [
    {
     "name": "stdout",
     "output_type": "stream",
     "text": [
      "node {\n",
      "  name: \"my_variable/initial_value\"\n",
      "  op: \"Const\"\n",
      "  attr {\n",
      "    key: \"dtype\"\n",
      "    value {\n",
      "      type: DT_FLOAT\n",
      "    }\n",
      "  }\n",
      "  attr {\n",
      "    key: \"value\"\n",
      "    value {\n",
      "      tensor {\n",
      "        dtype: DT_FLOAT\n",
      "        tensor_shape {\n",
      "        }\n",
      "        float_val: 1.0\n",
      "      }\n",
      "    }\n",
      "  }\n",
      "}\n",
      "node {\n",
      "  name: \"my_variable\"\n",
      "  op: \"VariableV2\"\n",
      "  attr {\n",
      "    key: \"container\"\n",
      "    value {\n",
      "      s: \"\"\n",
      "    }\n",
      "  }\n",
      "  attr {\n",
      "    key: \"dtype\"\n",
      "    value {\n",
      "      type: DT_FLOAT\n",
      "    }\n",
      "  }\n",
      "  attr {\n",
      "    key: \"shape\"\n",
      "    value {\n",
      "      shape {\n",
      "      }\n",
      "    }\n",
      "  }\n",
      "  attr {\n",
      "    key: \"shared_name\"\n",
      "    value {\n",
      "      s: \"\"\n",
      "    }\n",
      "  }\n",
      "}\n",
      "node {\n",
      "  name: \"my_variable/Assign\"\n",
      "  op: \"Assign\"\n",
      "  input: \"my_variable\"\n",
      "  input: \"my_variable/initial_value\"\n",
      "  attr {\n",
      "    key: \"T\"\n",
      "    value {\n",
      "      type: DT_FLOAT\n",
      "    }\n",
      "  }\n",
      "  attr {\n",
      "    key: \"_class\"\n",
      "    value {\n",
      "      list {\n",
      "        s: \"loc:@my_variable\"\n",
      "      }\n",
      "    }\n",
      "  }\n",
      "  attr {\n",
      "    key: \"use_locking\"\n",
      "    value {\n",
      "      b: true\n",
      "    }\n",
      "  }\n",
      "  attr {\n",
      "    key: \"validate_shape\"\n",
      "    value {\n",
      "      b: true\n",
      "    }\n",
      "  }\n",
      "}\n",
      "node {\n",
      "  name: \"my_variable/read\"\n",
      "  op: \"Identity\"\n",
      "  input: \"my_variable\"\n",
      "  attr {\n",
      "    key: \"T\"\n",
      "    value {\n",
      "      type: DT_FLOAT\n",
      "    }\n",
      "  }\n",
      "  attr {\n",
      "    key: \"_class\"\n",
      "    value {\n",
      "      list {\n",
      "        s: \"loc:@my_variable\"\n",
      "      }\n",
      "    }\n",
      "  }\n",
      "}\n",
      "versions {\n",
      "  producer: 38\n",
      "}\n",
      "\n"
     ]
    }
   ],
   "source": [
    "# 图的加载\n",
    "with tf.Session() as sess:\n",
    "    with tf.gfile.GFile('./tfmodel/test_pb.pb', 'rb') as f:\n",
    "        graph_def = tf.GraphDef()\n",
    "        graph_def.ParseFromString(f.read())\n",
    "        sess.graph.as_default()\n",
    "        tf.import_graph_def(graph_def, name='tf.graph')\n",
    "        print(graph_def)"
   ]
  },
  {
   "cell_type": "markdown",
   "metadata": {},
   "source": [
    "## 以Inception模型为例，通过图文件导入模型\n",
    "\n",
    "### 11.1导入Inception模型\n",
    "\n",
    "### 导入库"
   ]
  },
  {
   "cell_type": "code",
   "execution_count": 4,
   "metadata": {},
   "outputs": [],
   "source": [
    "from __future__ import print_function\n",
    "import os\n",
    "from io import BytesIO\n",
    "import numpy as np\n",
    "from functools import partial\n",
    "import PIL.Image\n",
    "import scipy.misc\n",
    "import tensorflow as tf\n",
    "import matplotlib"
   ]
  },
  {
   "cell_type": "markdown",
   "metadata": {},
   "source": [
    "### 创建图和会话"
   ]
  },
  {
   "cell_type": "code",
   "execution_count": 6,
   "metadata": {},
   "outputs": [],
   "source": [
    "graph = tf.Graph()\n",
    "sess = tf.InteractiveSession(graph = graph)\n"
   ]
  },
  {
   "cell_type": "markdown",
   "metadata": {},
   "source": [
    "### 导入模型\n",
    "Tensorflow提供了一种以'.pb'为扩展名的文件，可以事先将模型导入到pb文件中，再在需要的时候导出"
   ]
  },
  {
   "cell_type": "code",
   "execution_count": 7,
   "metadata": {},
   "outputs": [],
   "source": [
    "model_fn = 'tensorflow_inception_graph.pb' # 导入Inception网络\n",
    "# tensorflow_inception_graph.pb文件的下载：\n",
    "# https://storage.googleapis.com/download.tensorflow.org/models/inception5h.zip\n",
    "\n",
    "with tf.gfile.GFile(model_fn,'rb') as f:\n",
    "    graph_def = tf.GraphDef()\n",
    "    graph_def.ParseFromString(f.read())"
   ]
  },
  {
   "cell_type": "code",
   "execution_count": 8,
   "metadata": {},
   "outputs": [],
   "source": [
    "# 定义输入图像的占位符\n",
    "t_input = tf.placeholder(np.float32, name='input')\n",
    "\n",
    "# 图像预处理——减均值\n",
    "imagenet_mean = 117.0 # 在训练Inception模型时做了减均值预处理，此处也需减同样的均值以保持一致\n",
    "\n",
    "# 图像预处理——增加维度\n",
    "# 图像数据格式一般是（height, width, channels）,为同时将多张图片输入网络而在前面增加一维变为（batch,height,width,channel）\n",
    "t_preprocessed = tf.expand_dims(t_input - imagenet_mean, 0)\n",
    "\n",
    "# 导入模型并将经预处理的图像送入网络\n",
    "tf.import_graph_def(graph_def, {'input':t_preprocessed})"
   ]
  },
  {
   "cell_type": "markdown",
   "metadata": {},
   "source": [
    "### 找出卷积层或可视化的卷积层"
   ]
  },
  {
   "cell_type": "code",
   "execution_count": 9,
   "metadata": {},
   "outputs": [
    {
     "name": "stdout",
     "output_type": "stream",
     "text": [
      "Number of layers 59\n"
     ]
    }
   ],
   "source": [
    "layers = [op.name for op in graph.get_operations() if op.type == 'Conv2D']\n",
    "# 输出卷积层层数\n",
    "print('Number of layers', len(layers))"
   ]
  },
  {
   "cell_type": "code",
   "execution_count": 10,
   "metadata": {},
   "outputs": [
    {
     "name": "stdout",
     "output_type": "stream",
     "text": [
      "['import/conv2d0_pre_relu/conv', 'import/conv2d1_pre_relu/conv', 'import/conv2d2_pre_relu/conv', 'import/mixed3a_1x1_pre_relu/conv', 'import/mixed3a_3x3_bottleneck_pre_relu/conv', 'import/mixed3a_3x3_pre_relu/conv', 'import/mixed3a_5x5_bottleneck_pre_relu/conv', 'import/mixed3a_5x5_pre_relu/conv', 'import/mixed3a_pool_reduce_pre_relu/conv', 'import/mixed3b_1x1_pre_relu/conv', 'import/mixed3b_3x3_bottleneck_pre_relu/conv', 'import/mixed3b_3x3_pre_relu/conv', 'import/mixed3b_5x5_bottleneck_pre_relu/conv', 'import/mixed3b_5x5_pre_relu/conv', 'import/mixed3b_pool_reduce_pre_relu/conv', 'import/mixed4a_1x1_pre_relu/conv', 'import/mixed4a_3x3_bottleneck_pre_relu/conv', 'import/mixed4a_3x3_pre_relu/conv', 'import/mixed4a_5x5_bottleneck_pre_relu/conv', 'import/mixed4a_5x5_pre_relu/conv', 'import/mixed4a_pool_reduce_pre_relu/conv', 'import/mixed4b_1x1_pre_relu/conv', 'import/mixed4b_3x3_bottleneck_pre_relu/conv', 'import/mixed4b_3x3_pre_relu/conv', 'import/mixed4b_5x5_bottleneck_pre_relu/conv', 'import/mixed4b_5x5_pre_relu/conv', 'import/mixed4b_pool_reduce_pre_relu/conv', 'import/mixed4c_1x1_pre_relu/conv', 'import/mixed4c_3x3_bottleneck_pre_relu/conv', 'import/mixed4c_3x3_pre_relu/conv', 'import/mixed4c_5x5_bottleneck_pre_relu/conv', 'import/mixed4c_5x5_pre_relu/conv', 'import/mixed4c_pool_reduce_pre_relu/conv', 'import/mixed4d_1x1_pre_relu/conv', 'import/mixed4d_3x3_bottleneck_pre_relu/conv', 'import/mixed4d_3x3_pre_relu/conv', 'import/mixed4d_5x5_bottleneck_pre_relu/conv', 'import/mixed4d_5x5_pre_relu/conv', 'import/mixed4d_pool_reduce_pre_relu/conv', 'import/mixed4e_1x1_pre_relu/conv', 'import/mixed4e_3x3_bottleneck_pre_relu/conv', 'import/mixed4e_3x3_pre_relu/conv', 'import/mixed4e_5x5_bottleneck_pre_relu/conv', 'import/mixed4e_5x5_pre_relu/conv', 'import/mixed4e_pool_reduce_pre_relu/conv', 'import/mixed5a_1x1_pre_relu/conv', 'import/mixed5a_3x3_bottleneck_pre_relu/conv', 'import/mixed5a_3x3_pre_relu/conv', 'import/mixed5a_5x5_bottleneck_pre_relu/conv', 'import/mixed5a_5x5_pre_relu/conv', 'import/mixed5a_pool_reduce_pre_relu/conv', 'import/mixed5b_1x1_pre_relu/conv', 'import/mixed5b_3x3_bottleneck_pre_relu/conv', 'import/mixed5b_3x3_pre_relu/conv', 'import/mixed5b_5x5_bottleneck_pre_relu/conv', 'import/mixed5b_5x5_pre_relu/conv', 'import/mixed5b_pool_reduce_pre_relu/conv', 'import/head0_bottleneck_pre_relu/conv', 'import/head1_bottleneck_pre_relu/conv']\n"
     ]
    }
   ],
   "source": [
    "# 输出所有卷积层名称\n",
    "print(layers)"
   ]
  },
  {
   "cell_type": "code",
   "execution_count": 11,
   "metadata": {},
   "outputs": [
    {
     "name": "stdout",
     "output_type": "stream",
     "text": [
      "shape of mixed4d_3x3_bottleneck_pre_relu:(?, ?, ?, 144)\n",
      "shape of mixed4e_5x5_bottleneck_pre_relu:(?, ?, ?, 32)\n"
     ]
    }
   ],
   "source": [
    "# 输出指定卷积层的参数\n",
    "name1 = 'mixed4d_3x3_bottleneck_pre_relu'\n",
    "print('shape of %s:%s' % (name1, str(graph.get_tensor_by_name('import/'+name1+':0').get_shape())))\n",
    "\n",
    "name2 = 'mixed4e_5x5_bottleneck_pre_relu'\n",
    "print('shape of %s:%s' % (name2, str(graph.get_tensor_by_name('import/'+name2+':0').get_shape())))"
   ]
  },
  {
   "cell_type": "markdown",
   "metadata": {},
   "source": [
    "卷积层格式一般是（batch, height, width, channel），因为此时还不清楚输入图像的数量及大小，所以前三个维度是不确定的，显示“？”。由于导入的是已训练好的模型，所以指定的卷积层的通道数量是固定的"
   ]
  },
  {
   "cell_type": "markdown",
   "metadata": {},
   "source": [
    "## 11.2生成原始的Deep Dream图像\n",
    "\n",
    "### 定义相关函数"
   ]
  },
  {
   "cell_type": "code",
   "execution_count": 12,
   "metadata": {},
   "outputs": [],
   "source": [
    "from PIL import Image\n",
    "\n",
    "# 把一个numpy.ndarray保存成图像文件\n",
    "def savearray(img_array, img_name):\n",
    "    scipy.misc.toimage(img_array).save(img_name)\n",
    "    # 报错：module 'scipy.misc' has no attribute 'toimage',scipy在1.2.0版本后折旧，需要安装1.1.0版本\n",
    "    print('img saved:%s' % img_name)\n",
    "    \n",
    "    \n",
    "# 渲染函数\n",
    "def render_naive(t_obj, img0, iter_n=20, step=1.0):\n",
    "    # t_obj:是layer_output[:,:,:,channel],即卷积层某个通道的值\n",
    "    # img0:初始图像（噪声图像）\n",
    "    # iter_n：迭代次数\n",
    "    # step：用于控制每次迭代步长，可以看作学习率\n",
    "    t_score = tf.reduce_mean(t_obj)\n",
    "    # t_score是t_obj的平均值\n",
    "    # 由于我们的目标是调整输入图像使卷积层激活值尽可能大\n",
    "    # 即最大化t_score\n",
    "    # 为达到此目标，可使用梯度下降\n",
    "    # 计算t_score对t_input的梯度\n",
    "    t_grad = tf.gradients(t_score, t_input)[0]\n",
    "    \n",
    "    img = img0.copy() # 赋值新图像可避免影响原图像的值\n",
    "    for i in range(iter_n):\n",
    "        # 在sess中计算梯度，以及当前的t_score\n",
    "        g, score = sess.run([t_grad, t_score], {t_input:img})\n",
    "        # 对img应用梯度\n",
    "        # 首先对梯度进行归一化处理\n",
    "        g /= g.std() + 1e-8\n",
    "        # 将正规化处理后的梯度应用在图像上，step用于控制每次迭代步长，此处为1.0\n",
    "        img += g * step\n",
    "        print('iter:%d' %(i+1), 'score(mean)=%f'%score)\n",
    "    # 保存图片\n",
    "    savearray(img, 'naive_deepdream.jpg')\n",
    "    # matplotlib.image.imsave('naive_deepdream.jpg', img)\n",
    "    #print(img.shape)\n",
    "    #im = Image.fromarray(np.trunc(img))\n",
    "    #im.save('naive_deepdream.jpg')"
   ]
  },
  {
   "cell_type": "markdown",
   "metadata": {},
   "source": [
    "### 11.2.1 通过单通道特征生成DeepDream图像\n"
   ]
  },
  {
   "cell_type": "code",
   "execution_count": 13,
   "metadata": {},
   "outputs": [
    {
     "name": "stdout",
     "output_type": "stream",
     "text": [
      "iter:1 score(mean)=-19.951572\n",
      "iter:2 score(mean)=-27.021935\n",
      "iter:3 score(mean)=9.321432\n",
      "iter:4 score(mean)=89.999641\n",
      "iter:5 score(mean)=157.510544\n",
      "iter:6 score(mean)=229.526306\n",
      "iter:7 score(mean)=293.511505\n",
      "iter:8 score(mean)=347.090118\n",
      "iter:9 score(mean)=401.760529\n",
      "iter:10 score(mean)=455.130829\n",
      "iter:11 score(mean)=493.631134\n",
      "iter:12 score(mean)=529.031006\n",
      "iter:13 score(mean)=565.489807\n",
      "iter:14 score(mean)=612.621033\n",
      "iter:15 score(mean)=636.746582\n",
      "iter:16 score(mean)=670.305664\n",
      "iter:17 score(mean)=697.119202\n",
      "iter:18 score(mean)=725.442749\n",
      "iter:19 score(mean)=751.152344\n",
      "iter:20 score(mean)=765.506775\n",
      "img saved:naive_deepdream.jpg\n"
     ]
    },
    {
     "name": "stderr",
     "output_type": "stream",
     "text": [
      "D:\\SoftWare\\Anaconda3\\envs\\tensorflow1\\lib\\site-packages\\ipykernel_launcher.py:5: DeprecationWarning: `toimage` is deprecated!\n",
      "`toimage` is deprecated in SciPy 1.0.0, and will be removed in 1.2.0.\n",
      "Use Pillow's ``Image.fromarray`` directly instead.\n",
      "  \"\"\"\n"
     ]
    }
   ],
   "source": [
    "# 定义卷积层、通道数，并取出对应的tensor\n",
    "name = 'mixed4d_3x3_bottleneck_pre_relu' #(?,?,?,144)\n",
    "channel = 139\n",
    "# 'mixed4d_3x3_bottleneck_pre_relu'共144个通道\n",
    "# 这里选任意通道（0~143之间任意整数）进行最大化\n",
    "\n",
    "layer_output = graph.get_tensor_by_name('import/%s:0' % name)\n",
    "# layer_output[:,:,:,channel]即可表示该卷积层的第140个通道\n",
    "\n",
    "# 定义图像噪声\n",
    "img_noise = np.random.uniform(size=(224,224,3)) + 100.0\n",
    "\n",
    "# 调用render_naive函数渲染\n",
    "render_naive(layer_output[:,:,:,channel], img_noise, iter_n=20)\n",
    "\n",
    "#保存并显示图片\n",
    "im = PIL.Image.open('naive_deepdream.jpg')\n",
    "im.show()\n",
    "im.save('naive_single_chn.jpg')"
   ]
  },
  {
   "cell_type": "markdown",
   "metadata": {},
   "source": [
    "### 11.2.2 利用较低层单通道卷积特征生成deepdream图像"
   ]
  },
  {
   "cell_type": "code",
   "execution_count": 15,
   "metadata": {},
   "outputs": [
    {
     "name": "stdout",
     "output_type": "stream",
     "text": [
      "shape of mixed3a_3x3_bottleneck_pre_relu:(?, ?, ?, 96)\n"
     ]
    }
   ],
   "source": [
    "# 定义卷积层、通道数，并取出对应的tensor\n",
    "name3 = 'mixed3a_3x3_bottleneck_pre_relu'\n",
    "layer_output = graph.get_tensor_by_name('import/%s:0' % name3)\n",
    "print('shape of %s:%s' % (name3, str(graph.get_tensor_by_name('import/'+name3+':0').get_shape())))"
   ]
  },
  {
   "cell_type": "code",
   "execution_count": 16,
   "metadata": {},
   "outputs": [
    {
     "name": "stdout",
     "output_type": "stream",
     "text": [
      "iter:1 score(mean)=5.881767\n",
      "iter:2 score(mean)=47.837353\n",
      "iter:3 score(mean)=134.954086\n",
      "iter:4 score(mean)=205.076019\n",
      "iter:5 score(mean)=251.079819\n",
      "iter:6 score(mean)=280.931946\n",
      "iter:7 score(mean)=303.147644\n",
      "iter:8 score(mean)=319.365906\n",
      "iter:9 score(mean)=332.227203\n",
      "iter:10 score(mean)=342.304413\n",
      "iter:11 score(mean)=351.176208\n",
      "iter:12 score(mean)=358.733734\n",
      "iter:13 score(mean)=364.863586\n",
      "iter:14 score(mean)=370.420715\n",
      "iter:15 score(mean)=375.565887\n",
      "iter:16 score(mean)=379.834534\n",
      "iter:17 score(mean)=383.611938\n",
      "iter:18 score(mean)=387.163513\n",
      "iter:19 score(mean)=390.271515\n",
      "iter:20 score(mean)=393.273224\n",
      "img saved:naive_deepdream.jpg\n"
     ]
    },
    {
     "name": "stderr",
     "output_type": "stream",
     "text": [
      "D:\\SoftWare\\Anaconda3\\envs\\tensorflow1\\lib\\site-packages\\ipykernel_launcher.py:5: DeprecationWarning: `toimage` is deprecated!\n",
      "`toimage` is deprecated in SciPy 1.0.0, and will be removed in 1.2.0.\n",
      "Use Pillow's ``Image.fromarray`` directly instead.\n",
      "  \"\"\"\n"
     ]
    }
   ],
   "source": [
    "# 定义噪声图像\n",
    "img_noise = np.random.uniform(size=(224,224,3)) + 100.0\n",
    "\n",
    "# 调用render_naive函数渲染\n",
    "channel = 86\n",
    "render_naive(layer_output[:,:,:,channel], img_noise, iter_n=20)\n",
    "\n",
    "# 保存并显示图片\n",
    "im = PIL.Image.open('naive_deepdream.jpg')\n",
    "im.show()\n",
    "im.save('shallow_single_chn.jpg')"
   ]
  },
  {
   "cell_type": "markdown",
   "metadata": {},
   "source": [
    "### 11.2.3 利用较高层单通道卷积特征生成deepdream图像\n"
   ]
  },
  {
   "cell_type": "code",
   "execution_count": 17,
   "metadata": {},
   "outputs": [
    {
     "name": "stdout",
     "output_type": "stream",
     "text": [
      "shape of mixed5b_5x5_pre_relu:(?, ?, ?, 128)\n"
     ]
    }
   ],
   "source": [
    "# 定义卷积层、通道数，并取出对应的tensor\n",
    "name4 = 'mixed5b_5x5_pre_relu'\n",
    "layer_output = graph.get_tensor_by_name('import/%s:0' % name4)\n",
    "print('shape of %s:%s' % (name4, str(graph.get_tensor_by_name('import/'+name4+':0').get_shape())))"
   ]
  },
  {
   "cell_type": "code",
   "execution_count": 18,
   "metadata": {},
   "outputs": [
    {
     "name": "stdout",
     "output_type": "stream",
     "text": [
      "iter:1 score(mean)=-7.691501\n",
      "iter:2 score(mean)=-7.414789\n",
      "iter:3 score(mean)=-3.892986\n",
      "iter:4 score(mean)=3.874886\n",
      "iter:5 score(mean)=9.556870\n",
      "iter:6 score(mean)=20.077684\n",
      "iter:7 score(mean)=33.010136\n",
      "iter:8 score(mean)=42.359364\n",
      "iter:9 score(mean)=48.868275\n",
      "iter:10 score(mean)=54.380367\n",
      "iter:11 score(mean)=61.392803\n",
      "iter:12 score(mean)=71.589645\n",
      "iter:13 score(mean)=83.234322\n",
      "iter:14 score(mean)=90.993347\n",
      "iter:15 score(mean)=101.201355\n",
      "iter:16 score(mean)=112.333923\n",
      "iter:17 score(mean)=116.692314\n",
      "iter:18 score(mean)=123.983963\n",
      "iter:19 score(mean)=132.368805\n",
      "iter:20 score(mean)=137.970184\n",
      "img saved:naive_deepdream.jpg\n"
     ]
    },
    {
     "name": "stderr",
     "output_type": "stream",
     "text": [
      "D:\\SoftWare\\Anaconda3\\envs\\tensorflow1\\lib\\site-packages\\ipykernel_launcher.py:5: DeprecationWarning: `toimage` is deprecated!\n",
      "`toimage` is deprecated in SciPy 1.0.0, and will be removed in 1.2.0.\n",
      "Use Pillow's ``Image.fromarray`` directly instead.\n",
      "  \"\"\"\n"
     ]
    }
   ],
   "source": [
    "# 定义噪声图像\n",
    "img_noise = np.random.uniform(size=(224,224,3)) + 100.0\n",
    "\n",
    "# 调用render_naive函数渲染\n",
    "channel = 118\n",
    "render_naive(layer_output[:,:,:,channel], img_noise, iter_n=20)\n",
    "\n",
    "# 保存并显示图片\n",
    "im = PIL.Image.open('naive_deepdream.jpg')\n",
    "im.show()\n",
    "im.save('deep_single_chn.jpg')"
   ]
  },
  {
   "cell_type": "markdown",
   "metadata": {},
   "source": [
    "### 11.2.4利用多通道卷积生成deepdream图像"
   ]
  },
  {
   "cell_type": "markdown",
   "metadata": {},
   "source": [
    "### 11.2.5 利用所有通道特征生成deepdream图像"
   ]
  },
  {
   "cell_type": "code",
   "execution_count": 19,
   "metadata": {},
   "outputs": [
    {
     "name": "stdout",
     "output_type": "stream",
     "text": [
      "iter:1 score(mean)=-6.643812\n",
      "iter:2 score(mean)=-10.414528\n",
      "iter:3 score(mean)=-5.787938\n",
      "iter:4 score(mean)=0.727738\n",
      "iter:5 score(mean)=6.897670\n",
      "iter:6 score(mean)=12.349975\n",
      "iter:7 score(mean)=15.036036\n",
      "iter:8 score(mean)=19.979305\n",
      "iter:9 score(mean)=24.169178\n",
      "iter:10 score(mean)=27.378139\n",
      "iter:11 score(mean)=28.527636\n",
      "iter:12 score(mean)=32.889164\n",
      "iter:13 score(mean)=36.075706\n",
      "iter:14 score(mean)=37.162251\n",
      "iter:15 score(mean)=41.961651\n",
      "iter:16 score(mean)=46.405144\n",
      "iter:17 score(mean)=46.753391\n",
      "iter:18 score(mean)=50.417381\n",
      "iter:19 score(mean)=51.870598\n",
      "iter:20 score(mean)=55.001865\n",
      "img saved:naive_deepdream.jpg\n"
     ]
    },
    {
     "name": "stderr",
     "output_type": "stream",
     "text": [
      "D:\\SoftWare\\Anaconda3\\envs\\tensorflow1\\lib\\site-packages\\ipykernel_launcher.py:5: DeprecationWarning: `toimage` is deprecated!\n",
      "`toimage` is deprecated in SciPy 1.0.0, and will be removed in 1.2.0.\n",
      "Use Pillow's ``Image.fromarray`` directly instead.\n",
      "  \"\"\"\n"
     ]
    }
   ],
   "source": [
    "# 定义卷积层，并取出对应的tensor\n",
    "name = 'mixed4d_3x3_bottleneck_pre_relu' #(?,?,?,144)\n",
    "layer_output = graph.get_tensor_by_name('import/%s:0' % name)\n",
    "\n",
    "# 定义图像噪声\n",
    "img_noise = np.random.uniform(size=(224,224,3)) + 100.0\n",
    "\n",
    "# 调用render_naive函数渲染\n",
    "render_naive(layer_output, img_noise, iter_n=20)# 不指定特定通道，即表示利用所有通道特征\n",
    "\n",
    "#保存并显示图片\n",
    "im = PIL.Image.open('naive_deepdream.jpg')\n",
    "im.show()\n",
    "im.save('all_chn.jpg')"
   ]
  },
  {
   "cell_type": "markdown",
   "metadata": {},
   "source": [
    "### 11.2.6 利用背景图像生成deepdream图像"
   ]
  },
  {
   "cell_type": "code",
   "execution_count": 20,
   "metadata": {},
   "outputs": [
    {
     "name": "stdout",
     "output_type": "stream",
     "text": [
      "Tensor(\"import/mixed4c:0\", shape=(?, ?, ?, 512), dtype=float32, device=/device:CPU:0)\n"
     ]
    }
   ],
   "source": [
    "# 定义卷积层，并取出对应的tensor\n",
    "name = 'mixed4c'\n",
    "layer_output = graph.get_tensor_by_name('import/%s:0' % name)\n",
    "print(layer_output)"
   ]
  },
  {
   "cell_type": "code",
   "execution_count": 26,
   "metadata": {},
   "outputs": [
    {
     "name": "stdout",
     "output_type": "stream",
     "text": [
      "iter:1 score(mean)=13.039110\n",
      "iter:2 score(mean)=19.383553\n",
      "iter:3 score(mean)=26.859833\n",
      "iter:4 score(mean)=33.929298\n",
      "iter:5 score(mean)=39.912254\n",
      "iter:6 score(mean)=45.326698\n",
      "iter:7 score(mean)=50.238174\n",
      "iter:8 score(mean)=54.467319\n",
      "iter:9 score(mean)=58.327110\n",
      "iter:10 score(mean)=61.892525\n",
      "iter:11 score(mean)=65.174721\n",
      "iter:12 score(mean)=68.301033\n",
      "iter:13 score(mean)=70.989845\n",
      "iter:14 score(mean)=73.654099\n",
      "iter:15 score(mean)=76.258476\n",
      "iter:16 score(mean)=78.235771\n",
      "iter:17 score(mean)=80.552315\n",
      "iter:18 score(mean)=82.473038\n",
      "iter:19 score(mean)=84.483421\n",
      "iter:20 score(mean)=86.126228\n",
      "img saved:naive_deepdream.jpg\n"
     ]
    },
    {
     "name": "stderr",
     "output_type": "stream",
     "text": [
      "D:\\SoftWare\\Anaconda3\\envs\\tensorflow1\\lib\\site-packages\\ipykernel_launcher.py:3: DeprecationWarning: `toimage` is deprecated!\n",
      "`toimage` is deprecated in SciPy 1.0.0, and will be removed in 1.2.0.\n",
      "Use Pillow's ``Image.fromarray`` directly instead.\n",
      "  This is separate from the ipykernel package so we can avoid doing imports until\n"
     ]
    }
   ],
   "source": [
    "# 用一张背景图像（而不是随机噪声图像）作为起点对图像进行优化\n",
    "img_test = PIL.Image.open('mountain.jpg')\n",
    "\n",
    "# 调用render_naive函数渲染\n",
    "render_naive(layer_output, img_test, iter_n=20)# 不指定特定通道，即表示利用所有通道特征\n",
    "\n",
    "#保存并显示图片\n",
    "im = PIL.Image.open('naive_deepdream.jpg')\n",
    "im.show()\n",
    "im.save('mountain_naive.jpg')\n"
   ]
  },
  {
   "cell_type": "markdown",
   "metadata": {},
   "source": [
    "## 生成更高质量的Deep Dream图像\n",
    "\n",
    "### 导入库与Inception模型"
   ]
  },
  {
   "cell_type": "code",
   "execution_count": 22,
   "metadata": {},
   "outputs": [
    {
     "name": "stderr",
     "output_type": "stream",
     "text": [
      "D:\\SoftWare\\Anaconda3\\envs\\tensorflow1\\lib\\site-packages\\tensorflow\\python\\client\\session.py:1735: UserWarning: An interactive session is already active. This can cause out-of-memory errors in some cases. You must explicitly call `InteractiveSession.close()` to release resources held by the other session(s).\n",
      "  warnings.warn('An interactive session is already active. This can '\n"
     ]
    }
   ],
   "source": [
    "from __future__ import print_function\n",
    "import os\n",
    "from io import BytesIO\n",
    "import numpy as np\n",
    "from functools import partial\n",
    "import PIL.Image\n",
    "import scipy.misc\n",
    "import tensorflow as tf\n",
    "\n",
    "graph = tf.Graph()\n",
    "model_fn = 'tensorflow_inception_graph.pb'\n",
    "sess = tf.InteractiveSession(graph=graph)\n",
    "with tf.gfile.GFile(model_fn, 'rb') as f:\n",
    "    graph_def = tf.GraphDef()\n",
    "    graph_def.ParseFromString(f.read())\n",
    "t_input = tf.placeholder(np.float32, name='input')\n",
    "imagenet_mean = 117.0\n",
    "t_preprocessed = tf.expand_dims(t_input - imagenet_mean, 0)\n",
    "tf.import_graph_def(graph_def, {'input':t_preprocessed})\n"
   ]
  },
  {
   "cell_type": "markdown",
   "metadata": {},
   "source": [
    "### 定义相关函数"
   ]
  },
  {
   "cell_type": "code",
   "execution_count": 23,
   "metadata": {},
   "outputs": [],
   "source": [
    "# 保存图像\n",
    "def savearray(img_array, img_name):\n",
    "    scipy.misc.toimage(img_array).save(img_name)\n",
    "    print('img saved:%s'% img_name)\n",
    "    \n",
    "# 将图像放大ratio倍\n",
    "def resize_ratio(img, ratio):\n",
    "    min = img.min()\n",
    "    max = img.max()\n",
    "    img = (img-min) / (max - min) * 255\n",
    "    img = np.float32(scipy.misc.imresize(img, ratio))\n",
    "    img = img / 255*(max-min) + min\n",
    "    return img\n",
    "\n",
    "# 调整图像尺寸\n",
    "def resize(img, hw):\n",
    "    min = img.min()\n",
    "    max = img.max()\n",
    "    img = (img-min) / (max - min) * 255\n",
    "    img = np.float32(scipy.misc.imresize(img, hw))\n",
    "    img = img / 255*(max-min) + min\n",
    "    return img\n",
    "\n",
    "# 原始图像尺寸可能很大，从而导致内存耗尽问题\n",
    "# 每次只对tile_size * tile_size大小的图像计算梯度，避免内存问题\n",
    "def calc_grad_tiled(img, t_grad, tile_size=512):\n",
    "    sz = tile_size\n",
    "    h, w = img.shape[:2]\n",
    "    sx, sy = np.random.randint(sz, size=2)\n",
    "    img_shift = np.roll(np.roll(img, sx,1), sy, 0)# 先在行上做整体移动，再在列上做整体移动\n",
    "    grad = np.zeros_like(img)\n",
    "    for y in range(0, max(h - sz//2, sz), sz):\n",
    "        for x in range(0, max(w - sz//2, sz), sz):\n",
    "            sub = img_shift[y:y+sz, x:x+sz]\n",
    "            g = sess.run(t_grad, {t_input:sub})\n",
    "            grad[y:y+sz, x:x+sz] = g\n",
    "    return np.roll(np.roll(grad, -sx, 1), -sy, 0)\n",
    "    \n",
    "\n",
    "# 渲染函数,对图像进行拉普拉斯分解\n",
    "def render_deepdream(t_obj, img0, \n",
    "                     iter_n=20, step=1.5, octave_n=4, octave_scale=1.4):\n",
    "    # t_obj:是layer_output[:,:,:,channel],即卷积层某个通道的值\n",
    "    # img0:初始图像（噪声图像）\n",
    "    # iter_n：迭代次数\n",
    "    # step：用于控制每次迭代步长，可以看作学习率\n",
    "    # octave_n：金字塔层数\n",
    "    # octave_scale：层与层之间的倍数\n",
    "    t_score = tf.reduce_mean(t_obj)\n",
    "    # t_score是t_obj的平均值\n",
    "    # 由于我们的目标是调整输入图像使卷积层激活值尽可能大\n",
    "    # 即最大化t_score\n",
    "    # 为达到此目标，可使用梯度下降\n",
    "    # 计算t_score对t_input的梯度\n",
    "    t_grad = tf.gradients(t_score, t_input)[0]\n",
    "    \n",
    "    img = img0.copy() # 赋值新图像可避免影响原图像的值\n",
    "    \n",
    "    # 将图像进行金字塔分解，从而分为高频、低频部分\n",
    "    octaves = []\n",
    "    for i in range(octave_n - 1):\n",
    "        hw = img.shape[:2]# 图像尺寸\n",
    "        lo = resize(img, np.int32(np.float32(hw)/octave_scale))\n",
    "        hi = img - resize(lo, hw)\n",
    "        img = lo\n",
    "        octaves.append(hi)\n",
    "        \n",
    "    # 首先生成低频的图像，再依次放大并加上高频\n",
    "    for octave in range(octave_n):\n",
    "        if octave > 0:\n",
    "            hi = octaves[-octave]\n",
    "            img = resize(img, hi.shape[:2]) + hi\n",
    "        for i in range(iter_n):\n",
    "            g = calc_grad_tiled(img, t_grad)\n",
    "            img += g*(step/np.abs(g).mean()+1e-7)\n",
    "            \n",
    "    img = img.clip(0,255)\n",
    "    savearray(img, 'mountain_deepdream.jpg')\n",
    "    im = PIL.Image.open('mountain_deepdream.jpg').show()"
   ]
  },
  {
   "cell_type": "markdown",
   "metadata": {},
   "source": [
    "生成以背景图像作为起点的DeepDream图像"
   ]
  },
  {
   "cell_type": "code",
   "execution_count": 27,
   "metadata": {},
   "outputs": [
    {
     "name": "stderr",
     "output_type": "stream",
     "text": [
      "D:\\SoftWare\\Anaconda3\\envs\\tensorflow1\\lib\\site-packages\\ipykernel_launcher.py:20: DeprecationWarning: `imresize` is deprecated!\n",
      "`imresize` is deprecated in SciPy 1.0.0, and will be removed in 1.2.0.\n",
      "Use ``skimage.transform.resize`` instead.\n",
      "D:\\SoftWare\\Anaconda3\\envs\\tensorflow1\\lib\\site-packages\\ipykernel_launcher.py:3: DeprecationWarning: `toimage` is deprecated!\n",
      "`toimage` is deprecated in SciPy 1.0.0, and will be removed in 1.2.0.\n",
      "Use Pillow's ``Image.fromarray`` directly instead.\n",
      "  This is separate from the ipykernel package so we can avoid doing imports until\n"
     ]
    },
    {
     "name": "stdout",
     "output_type": "stream",
     "text": [
      "img saved:mountain_deepdream.jpg\n"
     ]
    }
   ],
   "source": [
    "name = 'mixed4c'\n",
    "layer_output = graph.get_tensor_by_name('import/%s:0' % name)\n",
    "\n",
    "img0 = PIL.Image.open('dog.jpg')\n",
    "img0 = np.float32(img0)\n",
    "render_deepdream(tf.square(layer_output), img0)"
   ]
  },
  {
   "cell_type": "code",
   "execution_count": null,
   "metadata": {},
   "outputs": [],
   "source": []
  }
 ],
 "metadata": {
  "kernelspec": {
   "display_name": "Python [conda env:tensorflow1] *",
   "language": "python",
   "name": "conda-env-tensorflow1-py"
  },
  "language_info": {
   "codemirror_mode": {
    "name": "ipython",
    "version": 3
   },
   "file_extension": ".py",
   "mimetype": "text/x-python",
   "name": "python",
   "nbconvert_exporter": "python",
   "pygments_lexer": "ipython3",
   "version": "3.7.4"
  }
 },
 "nbformat": 4,
 "nbformat_minor": 2
}

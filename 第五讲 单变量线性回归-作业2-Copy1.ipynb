{
 "cells": [
  {
   "cell_type": "markdown",
   "metadata": {},
   "source": [
    "## 人工数据集生成"
   ]
  },
  {
   "cell_type": "code",
   "execution_count": 1,
   "metadata": {},
   "outputs": [
    {
     "name": "stderr",
     "output_type": "stream",
     "text": [
      "D:\\SoftWare\\Anaconda3\\envs\\tensorflow1\\lib\\site-packages\\tensorflow\\python\\framework\\dtypes.py:516: FutureWarning: Passing (type, 1) or '1type' as a synonym of type is deprecated; in a future version of numpy, it will be understood as (type, (1,)) / '(1,)type'.\n",
      "  _np_qint8 = np.dtype([(\"qint8\", np.int8, 1)])\n",
      "D:\\SoftWare\\Anaconda3\\envs\\tensorflow1\\lib\\site-packages\\tensorflow\\python\\framework\\dtypes.py:517: FutureWarning: Passing (type, 1) or '1type' as a synonym of type is deprecated; in a future version of numpy, it will be understood as (type, (1,)) / '(1,)type'.\n",
      "  _np_quint8 = np.dtype([(\"quint8\", np.uint8, 1)])\n",
      "D:\\SoftWare\\Anaconda3\\envs\\tensorflow1\\lib\\site-packages\\tensorflow\\python\\framework\\dtypes.py:518: FutureWarning: Passing (type, 1) or '1type' as a synonym of type is deprecated; in a future version of numpy, it will be understood as (type, (1,)) / '(1,)type'.\n",
      "  _np_qint16 = np.dtype([(\"qint16\", np.int16, 1)])\n",
      "D:\\SoftWare\\Anaconda3\\envs\\tensorflow1\\lib\\site-packages\\tensorflow\\python\\framework\\dtypes.py:519: FutureWarning: Passing (type, 1) or '1type' as a synonym of type is deprecated; in a future version of numpy, it will be understood as (type, (1,)) / '(1,)type'.\n",
      "  _np_quint16 = np.dtype([(\"quint16\", np.uint16, 1)])\n",
      "D:\\SoftWare\\Anaconda3\\envs\\tensorflow1\\lib\\site-packages\\tensorflow\\python\\framework\\dtypes.py:520: FutureWarning: Passing (type, 1) or '1type' as a synonym of type is deprecated; in a future version of numpy, it will be understood as (type, (1,)) / '(1,)type'.\n",
      "  _np_qint32 = np.dtype([(\"qint32\", np.int32, 1)])\n",
      "D:\\SoftWare\\Anaconda3\\envs\\tensorflow1\\lib\\site-packages\\tensorflow\\python\\framework\\dtypes.py:525: FutureWarning: Passing (type, 1) or '1type' as a synonym of type is deprecated; in a future version of numpy, it will be understood as (type, (1,)) / '(1,)type'.\n",
      "  np_resource = np.dtype([(\"resource\", np.ubyte, 1)])\n",
      "D:\\SoftWare\\Anaconda3\\envs\\tensorflow1\\lib\\site-packages\\tensorboard\\compat\\tensorflow_stub\\dtypes.py:541: FutureWarning: Passing (type, 1) or '1type' as a synonym of type is deprecated; in a future version of numpy, it will be understood as (type, (1,)) / '(1,)type'.\n",
      "  _np_qint8 = np.dtype([(\"qint8\", np.int8, 1)])\n",
      "D:\\SoftWare\\Anaconda3\\envs\\tensorflow1\\lib\\site-packages\\tensorboard\\compat\\tensorflow_stub\\dtypes.py:542: FutureWarning: Passing (type, 1) or '1type' as a synonym of type is deprecated; in a future version of numpy, it will be understood as (type, (1,)) / '(1,)type'.\n",
      "  _np_quint8 = np.dtype([(\"quint8\", np.uint8, 1)])\n",
      "D:\\SoftWare\\Anaconda3\\envs\\tensorflow1\\lib\\site-packages\\tensorboard\\compat\\tensorflow_stub\\dtypes.py:543: FutureWarning: Passing (type, 1) or '1type' as a synonym of type is deprecated; in a future version of numpy, it will be understood as (type, (1,)) / '(1,)type'.\n",
      "  _np_qint16 = np.dtype([(\"qint16\", np.int16, 1)])\n",
      "D:\\SoftWare\\Anaconda3\\envs\\tensorflow1\\lib\\site-packages\\tensorboard\\compat\\tensorflow_stub\\dtypes.py:544: FutureWarning: Passing (type, 1) or '1type' as a synonym of type is deprecated; in a future version of numpy, it will be understood as (type, (1,)) / '(1,)type'.\n",
      "  _np_quint16 = np.dtype([(\"quint16\", np.uint16, 1)])\n",
      "D:\\SoftWare\\Anaconda3\\envs\\tensorflow1\\lib\\site-packages\\tensorboard\\compat\\tensorflow_stub\\dtypes.py:545: FutureWarning: Passing (type, 1) or '1type' as a synonym of type is deprecated; in a future version of numpy, it will be understood as (type, (1,)) / '(1,)type'.\n",
      "  _np_qint32 = np.dtype([(\"qint32\", np.int32, 1)])\n",
      "D:\\SoftWare\\Anaconda3\\envs\\tensorflow1\\lib\\site-packages\\tensorboard\\compat\\tensorflow_stub\\dtypes.py:550: FutureWarning: Passing (type, 1) or '1type' as a synonym of type is deprecated; in a future version of numpy, it will be understood as (type, (1,)) / '(1,)type'.\n",
      "  np_resource = np.dtype([(\"resource\", np.ubyte, 1)])\n"
     ]
    }
   ],
   "source": [
    "import matplotlib.pyplot as plt\n",
    "import numpy as np\n",
    "import tensorflow as tf\n",
    "\n",
    "# 设置随机数种子\n",
    "np.random.seed(5)"
   ]
  },
  {
   "cell_type": "code",
   "execution_count": 4,
   "metadata": {},
   "outputs": [],
   "source": [
    "# 直接采用np生成等差数列的方法，生成500个点，每个点的取值在0~100之间\n",
    "x_data = np.linspace(-1,1,100)\n",
    "\n",
    "# y=3.1234x+2.98+噪声，其中，噪声的维度与x_data一致\n",
    "y_data = 2 * x_data + 1.0 + np.random.randn(*x_data.shape) * 0.4\n",
    "\n",
    "# np.random.randn(d0, d1, ..., dn)是从标准正态分布中返回一个或多个样本值\n",
    "# 标准正态分布又称为u分布，是以0为均值，1为标准差的正态分布，记为N(0,1)"
   ]
  },
  {
   "cell_type": "markdown",
   "metadata": {},
   "source": [
    "## 利用matplotlib画图\n"
   ]
  },
  {
   "cell_type": "code",
   "execution_count": 5,
   "metadata": {},
   "outputs": [
    {
     "data": {
      "text/plain": [
       "<matplotlib.collections.PathCollection at 0x260f16ffec8>"
      ]
     },
     "execution_count": 5,
     "metadata": {},
     "output_type": "execute_result"
    },
    {
     "data": {
      "image/png": "[encoded data removed]",
      "text/plain": [
       "<Figure size 432x288 with 1 Axes>"
      ]
     },
     "metadata": {
      "needs_background": "light"
     },
     "output_type": "display_data"
    }
   ],
   "source": [
    "# 画出随机生成数据的散点图\n",
    "plt.scatter(x_data, y_data)"
   ]
  },
  {
   "cell_type": "code",
   "execution_count": 7,
   "metadata": {},
   "outputs": [
    {
     "data": {
      "text/plain": [
       "[<matplotlib.lines.Line2D at 0x260f17c9d08>]"
      ]
     },
     "execution_count": 7,
     "metadata": {},
     "output_type": "execute_result"
    },
    {
     "data": {
      "image/png": "[encoded data removed]",
      "text/plain": [
       "<Figure size 432x288 with 1 Axes>"
      ]
     },
     "metadata": {
      "needs_background": "light"
     },
     "output_type": "display_data"
    }
   ],
   "source": [
    "# 画出随机生成数据的散点图\n",
    "plt.scatter(x_data, y_data)\n",
    "\n",
    "# 画出我们想要学习得到的目标线性函数y=2x+1\n",
    "plt.plot(x_data, 1.0+2*x_data, color='red', linewidth=3)"
   ]
  },
  {
   "cell_type": "markdown",
   "metadata": {},
   "source": [
    "## 构建模型"
   ]
  },
  {
   "cell_type": "code",
   "execution_count": 8,
   "metadata": {},
   "outputs": [],
   "source": [
    "# 定义训练数据的占位符，x是特征值，y是标签值\n",
    "x = tf.placeholder('float', name='x')\n",
    "y = tf.placeholder('float', name='y')\n",
    "\n",
    "\n",
    "# 定义模型函数\n",
    "def model(x, w ,b):\n",
    "    return tf.multiply(x,w) +b\n",
    "\n",
    "\n",
    "# 创建变量\n",
    "# TensorFlow变量的声明函数是tf.Variable\n",
    "# tf.Variable的作用是保存和更新参数\n",
    "# 变量的初始值可以是随机数、常数或者通过其他变量的初始值计算得到\n",
    "\n",
    "# 构建线性函数的斜率，变量w\n",
    "w = tf.Variable(3.0, name='w0')\n",
    "\n",
    "# 构建线性函数的截距，变量b\n",
    "b = tf.Variable(2.0, name='b0')\n",
    "\n",
    "# pred是预测值，前向计算\n",
    "pred = model(x, w, b)"
   ]
  },
  {
   "cell_type": "markdown",
   "metadata": {},
   "source": [
    "## 训练模型"
   ]
  },
  {
   "cell_type": "code",
   "execution_count": 9,
   "metadata": {},
   "outputs": [],
   "source": [
    "# 设置训练参数\n",
    "\n",
    "# 迭代次数（训练轮数）\n",
    "train_epochs = 10\n",
    "\n",
    "# 学习率(建议一般设成0.1-0.01之间)\n",
    "learning_rate = 0.1\n",
    "\n",
    "display_step = 20 # 控制显示loss值的粒度"
   ]
  },
  {
   "cell_type": "markdown",
   "metadata": {},
   "source": [
    "## 关于学习率（learning_rate）的设置\n",
    "\n",
    "学习率的作用：控制参数更新的幅度。  \n",
    "如果学习率设置过大，可能导致参数在极值附近来回摆动，无法保证收敛。  \n",
    "如果学习率设置过小，虽然能保证收敛，但优化速度会大大降低，我们需要更多迭代次数才能达到较理想的优化效果。"
   ]
  },
  {
   "cell_type": "markdown",
   "metadata": {},
   "source": [
    "## 定义损失函数\n"
   ]
  },
  {
   "cell_type": "code",
   "execution_count": 10,
   "metadata": {},
   "outputs": [],
   "source": [
    "# 损失函数用于描述预测值与真实值之间的误差，从而指导模型收敛方向\n",
    "# 常见损失函数：均方差（Mean Square Error, MSE）和交叉熵（cross-entropy）\n",
    "\n",
    "# L2损失函数\n",
    "# 采用均方差作为损失函数\n",
    "loss_function = tf.reduce_mean(tf.square(y-pred))"
   ]
  },
  {
   "cell_type": "markdown",
   "metadata": {},
   "source": [
    "## 定义优化器\n"
   ]
  },
  {
   "cell_type": "code",
   "execution_count": 11,
   "metadata": {},
   "outputs": [],
   "source": [
    "# 定义优化器Optimizer，初始化一个GradientDescentOptimizer\n",
    "# 设置学习率和优化目标：最小化损失\n",
    "\n",
    "# 梯度下降优化器\n",
    "optimmizer = tf.train.GradientDescentOptimizer(learning_rate).minimize(loss_function)"
   ]
  },
  {
   "cell_type": "markdown",
   "metadata": {},
   "source": [
    "## 创建会话"
   ]
  },
  {
   "cell_type": "code",
   "execution_count": 12,
   "metadata": {},
   "outputs": [],
   "source": [
    "# 声明会话\n",
    "sess = tf.Session()"
   ]
  },
  {
   "cell_type": "code",
   "execution_count": 13,
   "metadata": {},
   "outputs": [],
   "source": [
    "# 变量初始化\n",
    "# 在真正执行计算之前，需要将所有变量初始化\n",
    "# 通过tf.global_variables_initializer函数可实现对所有变量的初始化\n",
    "\n",
    "init = tf.global_variables_initializer()\n",
    "\n",
    "sess.run(init)"
   ]
  },
  {
   "cell_type": "markdown",
   "metadata": {},
   "source": [
    "## 迭代训练"
   ]
  },
  {
   "cell_type": "markdown",
   "metadata": {},
   "source": [
    "### 显示损失值"
   ]
  },
  {
   "cell_type": "code",
   "execution_count": 14,
   "metadata": {},
   "outputs": [
    {
     "name": "stdout",
     "output_type": "stream",
     "text": [
      "Train Epoch: 01 Step:020 loss= 0.022781346\n",
      "Train Epoch: 01 Step:040 loss= 0.043196335\n",
      "Train Epoch: 01 Step:060 loss= 0.327444702\n",
      "Train Epoch: 01 Step:080 loss= 0.044246536\n",
      "Train Epoch: 01 Step:100 loss= 0.784076810\n",
      "Train Epoch: 02 Step:120 loss= 0.005830352\n",
      "Train Epoch: 02 Step:140 loss= 0.103049867\n",
      "Train Epoch: 02 Step:160 loss= 0.487298131\n",
      "Train Epoch: 02 Step:180 loss= 0.014644244\n",
      "Train Epoch: 02 Step:200 loss= 0.871226072\n",
      "Train Epoch: 03 Step:220 loss= 0.005577441\n",
      "Train Epoch: 03 Step:240 loss= 0.105272762\n",
      "Train Epoch: 03 Step:260 loss= 0.492662281\n",
      "Train Epoch: 03 Step:280 loss= 0.013993245\n",
      "Train Epoch: 03 Step:300 loss= 0.873951614\n",
      "Train Epoch: 04 Step:320 loss= 0.005569831\n",
      "Train Epoch: 04 Step:340 loss= 0.105340928\n",
      "Train Epoch: 04 Step:360 loss= 0.492826134\n",
      "Train Epoch: 04 Step:380 loss= 0.013973623\n",
      "Train Epoch: 04 Step:400 loss= 0.874035001\n",
      "Train Epoch: 05 Step:420 loss= 0.005569591\n",
      "Train Epoch: 05 Step:440 loss= 0.105342977\n",
      "Train Epoch: 05 Step:460 loss= 0.492830992\n",
      "Train Epoch: 05 Step:480 loss= 0.013973059\n",
      "Train Epoch: 05 Step:500 loss= 0.874037206\n",
      "Train Epoch: 06 Step:520 loss= 0.005569591\n",
      "Train Epoch: 06 Step:540 loss= 0.105343051\n",
      "Train Epoch: 06 Step:560 loss= 0.492831320\n",
      "Train Epoch: 06 Step:580 loss= 0.013973059\n",
      "Train Epoch: 06 Step:600 loss= 0.874037206\n",
      "Train Epoch: 07 Step:620 loss= 0.005569591\n",
      "Train Epoch: 07 Step:640 loss= 0.105343096\n",
      "Train Epoch: 07 Step:660 loss= 0.492831469\n",
      "Train Epoch: 07 Step:680 loss= 0.013973059\n",
      "Train Epoch: 07 Step:700 loss= 0.874037623\n",
      "Train Epoch: 08 Step:720 loss= 0.005569573\n",
      "Train Epoch: 08 Step:740 loss= 0.105343014\n",
      "Train Epoch: 08 Step:760 loss= 0.492831320\n",
      "Train Epoch: 08 Step:780 loss= 0.013973002\n",
      "Train Epoch: 08 Step:800 loss= 0.874037206\n",
      "Train Epoch: 09 Step:820 loss= 0.005569591\n",
      "Train Epoch: 09 Step:840 loss= 0.105343096\n",
      "Train Epoch: 09 Step:860 loss= 0.492831469\n",
      "Train Epoch: 09 Step:880 loss= 0.013973059\n",
      "Train Epoch: 09 Step:900 loss= 0.874037623\n",
      "Train Epoch: 10 Step:920 loss= 0.005569573\n",
      "Train Epoch: 10 Step:940 loss= 0.105343014\n",
      "Train Epoch: 10 Step:960 loss= 0.492831320\n",
      "Train Epoch: 10 Step:980 loss= 0.013973002\n",
      "Train Epoch: 10 Step:1000 loss= 0.874037206\n"
     ]
    },
    {
     "data": {
      "image/png": "[encoded data removed]",
      "text/plain": [
       "<Figure size 432x288 with 1 Axes>"
      ]
     },
     "metadata": {
      "needs_background": "light"
     },
     "output_type": "display_data"
    }
   ],
   "source": [
    "# 模型训练阶段，设置迭代轮次，每次通过将样本逐个输入模型，进行梯度下降优化操作，每轮迭代后，绘制出模型曲线\n",
    "\n",
    "step = 0 # 记录训练步数\n",
    "loss_list = [] # 用于保存loss值的列表\n",
    "\n",
    "# 开始训练，轮数为epoch，采用SGD随机梯度下降优化方法\n",
    "for epoch in range(train_epochs):\n",
    "    for xs, ys in zip(x_data, y_data):\n",
    "        _, loss = sess.run([optimmizer, loss_function], feed_dict={x: xs, y:ys})\n",
    "        \n",
    "        # 显示损失值loss\n",
    "        # display_step:控制报告的粒度\n",
    "        # 例如，如果display_step设为2，则将每训练2个样本输出一次损失值\n",
    "        # 与超参数不同，修改display_step不会更改模型所学习的规律\n",
    "        loss_list.append(loss)\n",
    "        step = step + 1\n",
    "        if step % display_step == 0:\n",
    "            print('Train Epoch:', '%02d' % (epoch+1), 'Step:%03d' % (step),\n",
    "                 \"loss=\", \"{:.9f}\".format(loss))\n",
    "            \n",
    "    b0temp = b.eval(session=sess)\n",
    "    w0temp = w.eval(session=sess)\n",
    "    \n",
    "    plt.plot(x_data, w0temp*x_data+b0temp)# 画图"
   ]
  },
  {
   "cell_type": "code",
   "execution_count": null,
   "metadata": {},
   "outputs": [],
   "source": [
    "# 模型训练阶段，设置迭代轮次，每次通过将样本逐个输入模型，进行梯度下降优化操作，每轮迭代后，绘制出模型曲线\n",
    "\n",
    "step = 0 # 记录训练步数\n",
    "loss_list = [] # 用于保存loss值的列表\n",
    "\n",
    "# 开始训练，轮数为epoch，采用SGD随机梯度下降优化方法\n",
    "for epoch in range(train_epochs):\n",
    "    for xs, ys in zip(x_data, y_data):\n",
    "        _, loss = sess.run([optimmizer, loss_function], feed_dict={x: xs, y:ys})\n",
    "        \n",
    "        # 显示损失值loss\n",
    "        # display_step:控制报告的粒度\n",
    "        # 例如，如果display_step设为2，则将每训练2个样本输出一次损失值\n",
    "        # 与超参数不同，修改display_step不会更改模型所学习的规律\n",
    "        loss_list.append(loss)\n",
    "        step = step + 1\n",
    "        if step % display_step == 0:\n",
    "            print('Train Epoch:', '%02d' % (epoch+1), 'Step:%03d' % (step),\n",
    "                 \"loss=\", \"{:.9f}\".format(loss))\n",
    "            \n",
    "    b0temp = b.eval(session=sess)\n",
    "    w0temp = w.eval(session=sess)\n",
    "    \n",
    "    plt.plot(x_data, w0temp*x_data+b0temp)# 画图"
   ]
  },
  {
   "cell_type": "markdown",
   "metadata": {},
   "source": [
    "## 打印结果"
   ]
  },
  {
   "cell_type": "code",
   "execution_count": null,
   "metadata": {},
   "outputs": [],
   "source": [
    "print('w:', sess.run(w))\n",
    "print('b:', sess.run(b) )"
   ]
  },
  {
   "cell_type": "markdown",
   "metadata": {},
   "source": [
    "## 图形化显示损失值"
   ]
  },
  {
   "cell_type": "code",
   "execution_count": null,
   "metadata": {},
   "outputs": [],
   "source": [
    "plt.plot(loss_list)"
   ]
  },
  {
   "cell_type": "code",
   "execution_count": null,
   "metadata": {},
   "outputs": [],
   "source": [
    "plt.plot(loss_list, 'r+')"
   ]
  },
  {
   "cell_type": "code",
   "execution_count": null,
   "metadata": {},
   "outputs": [],
   "source": [
    "[x for x in loss_list if x>1]"
   ]
  },
  {
   "cell_type": "markdown",
   "metadata": {},
   "source": [
    "## 随机梯度下降  \n",
    "在梯度下降法中，批量指的是用于在单次迭代中计算梯度的样本总数。  \n",
    "\n",
    "假定批量是指整个数据集，数据集通常包含很大样本（数万甚至数千亿），此外，数据集通常包含多个特征。因此，一个批量可能相当巨大。如果是超大批量，则单词迭代就可能要花费很长时间进行计算。  \n",
    "\n",
    "随机梯度下降法（SGD）每次迭代只使用一个样本（批量大小为1），如果进行足够的迭代，SGD也可以发挥作用。“随机”这一术语表示构成各个批量的一个样本都是随机选择的。  \n",
    "\n",
    "小批量随机梯度下降法（小批量SGD）是介于全批量与SGD之间的折衷方案。小批量通常包含10-1000个随机选择的样本。小批量SGD可以减少SGD中的杂乱样本数量，但仍然 比全批量更高效。"
   ]
  },
  {
   "cell_type": "markdown",
   "metadata": {},
   "source": [
    "## 进行预测\n"
   ]
  },
  {
   "cell_type": "code",
   "execution_count": null,
   "metadata": {},
   "outputs": [],
   "source": [
    "x_test = 3.21\n",
    "\n",
    "predict = sess.run(pred, feed_dict={x:x_test})\n",
    "print('预测值：%f'%predict)\n",
    "\n",
    "target = 2*x_test + 1.0\n",
    "print('目标值：%f'%target)"
   ]
  },
  {
   "cell_type": "code",
   "execution_count": null,
   "metadata": {},
   "outputs": [],
   "source": []
  }
 ],
 "metadata": {
  "kernelspec": {
   "display_name": "Python [conda env:tensorflow1] *",
   "language": "python",
   "name": "conda-env-tensorflow1-py"
  },
  "language_info": {
   "codemirror_mode": {
    "name": "ipython",
    "version": 3
   },
   "file_extension": ".py",
   "mimetype": "text/x-python",
   "name": "python",
   "nbconvert_exporter": "python",
   "pygments_lexer": "ipython3",
   "version": "3.7.4"
  }
 },
 "nbformat": 4,
 "nbformat_minor": 2
}
